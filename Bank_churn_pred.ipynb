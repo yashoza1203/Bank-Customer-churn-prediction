{
 "cells": [
  {
   "cell_type": "code",
   "execution_count": 1,
   "id": "a4958c4c",
   "metadata": {},
   "outputs": [],
   "source": [
    "import pandas as pd\n",
    "from matplotlib import pyplot as plt\n",
    "import numpy as np\n",
    "%matplotlib inline"
   ]
  },
  {
   "cell_type": "code",
   "execution_count": 2,
   "id": "46651af8",
   "metadata": {},
   "outputs": [],
   "source": [
    "df = pd.read_csv(\"Churn_Modelling.csv\")"
   ]
  },
  {
   "cell_type": "code",
   "execution_count": 3,
   "id": "126e1482",
   "metadata": {},
   "outputs": [
    {
     "data": {
      "text/html": [
       "<div>\n",
       "<style scoped>\n",
       "    .dataframe tbody tr th:only-of-type {\n",
       "        vertical-align: middle;\n",
       "    }\n",
       "\n",
       "    .dataframe tbody tr th {\n",
       "        vertical-align: top;\n",
       "    }\n",
       "\n",
       "    .dataframe thead th {\n",
       "        text-align: right;\n",
       "    }\n",
       "</style>\n",
       "<table border=\"1\" class=\"dataframe\">\n",
       "  <thead>\n",
       "    <tr style=\"text-align: right;\">\n",
       "      <th></th>\n",
       "      <th>RowNumber</th>\n",
       "      <th>CustomerId</th>\n",
       "      <th>Surname</th>\n",
       "      <th>CreditScore</th>\n",
       "      <th>Geography</th>\n",
       "      <th>Gender</th>\n",
       "      <th>Age</th>\n",
       "      <th>Tenure</th>\n",
       "      <th>Balance</th>\n",
       "      <th>NumOfProducts</th>\n",
       "      <th>HasCrCard</th>\n",
       "      <th>IsActiveMember</th>\n",
       "      <th>EstimatedSalary</th>\n",
       "      <th>Exited</th>\n",
       "    </tr>\n",
       "  </thead>\n",
       "  <tbody>\n",
       "    <tr>\n",
       "      <th>0</th>\n",
       "      <td>1</td>\n",
       "      <td>15634602</td>\n",
       "      <td>Hargrave</td>\n",
       "      <td>619</td>\n",
       "      <td>France</td>\n",
       "      <td>Female</td>\n",
       "      <td>42</td>\n",
       "      <td>2</td>\n",
       "      <td>0.00</td>\n",
       "      <td>1</td>\n",
       "      <td>1</td>\n",
       "      <td>1</td>\n",
       "      <td>101348.88</td>\n",
       "      <td>1</td>\n",
       "    </tr>\n",
       "    <tr>\n",
       "      <th>1</th>\n",
       "      <td>2</td>\n",
       "      <td>15647311</td>\n",
       "      <td>Hill</td>\n",
       "      <td>608</td>\n",
       "      <td>Spain</td>\n",
       "      <td>Female</td>\n",
       "      <td>41</td>\n",
       "      <td>1</td>\n",
       "      <td>83807.86</td>\n",
       "      <td>1</td>\n",
       "      <td>0</td>\n",
       "      <td>1</td>\n",
       "      <td>112542.58</td>\n",
       "      <td>0</td>\n",
       "    </tr>\n",
       "    <tr>\n",
       "      <th>2</th>\n",
       "      <td>3</td>\n",
       "      <td>15619304</td>\n",
       "      <td>Onio</td>\n",
       "      <td>502</td>\n",
       "      <td>France</td>\n",
       "      <td>Female</td>\n",
       "      <td>42</td>\n",
       "      <td>8</td>\n",
       "      <td>159660.80</td>\n",
       "      <td>3</td>\n",
       "      <td>1</td>\n",
       "      <td>0</td>\n",
       "      <td>113931.57</td>\n",
       "      <td>1</td>\n",
       "    </tr>\n",
       "    <tr>\n",
       "      <th>3</th>\n",
       "      <td>4</td>\n",
       "      <td>15701354</td>\n",
       "      <td>Boni</td>\n",
       "      <td>699</td>\n",
       "      <td>France</td>\n",
       "      <td>Female</td>\n",
       "      <td>39</td>\n",
       "      <td>1</td>\n",
       "      <td>0.00</td>\n",
       "      <td>2</td>\n",
       "      <td>0</td>\n",
       "      <td>0</td>\n",
       "      <td>93826.63</td>\n",
       "      <td>0</td>\n",
       "    </tr>\n",
       "    <tr>\n",
       "      <th>4</th>\n",
       "      <td>5</td>\n",
       "      <td>15737888</td>\n",
       "      <td>Mitchell</td>\n",
       "      <td>850</td>\n",
       "      <td>Spain</td>\n",
       "      <td>Female</td>\n",
       "      <td>43</td>\n",
       "      <td>2</td>\n",
       "      <td>125510.82</td>\n",
       "      <td>1</td>\n",
       "      <td>1</td>\n",
       "      <td>1</td>\n",
       "      <td>79084.10</td>\n",
       "      <td>0</td>\n",
       "    </tr>\n",
       "  </tbody>\n",
       "</table>\n",
       "</div>"
      ],
      "text/plain": [
       "   RowNumber  CustomerId   Surname  CreditScore Geography  Gender  Age  \\\n",
       "0          1    15634602  Hargrave          619    France  Female   42   \n",
       "1          2    15647311      Hill          608     Spain  Female   41   \n",
       "2          3    15619304      Onio          502    France  Female   42   \n",
       "3          4    15701354      Boni          699    France  Female   39   \n",
       "4          5    15737888  Mitchell          850     Spain  Female   43   \n",
       "\n",
       "   Tenure    Balance  NumOfProducts  HasCrCard  IsActiveMember  \\\n",
       "0       2       0.00              1          1               1   \n",
       "1       1   83807.86              1          0               1   \n",
       "2       8  159660.80              3          1               0   \n",
       "3       1       0.00              2          0               0   \n",
       "4       2  125510.82              1          1               1   \n",
       "\n",
       "   EstimatedSalary  Exited  \n",
       "0        101348.88       1  \n",
       "1        112542.58       0  \n",
       "2        113931.57       1  \n",
       "3         93826.63       0  \n",
       "4         79084.10       0  "
      ]
     },
     "execution_count": 3,
     "metadata": {},
     "output_type": "execute_result"
    }
   ],
   "source": [
    "df.head()"
   ]
  },
  {
   "cell_type": "code",
   "execution_count": 4,
   "id": "105d963d",
   "metadata": {},
   "outputs": [],
   "source": [
    "df.drop(['CustomerId','RowNumber','Surname'],axis='columns',inplace=True)"
   ]
  },
  {
   "cell_type": "markdown",
   "id": "11c27655",
   "metadata": {},
   "source": [
    "Data Analysis"
   ]
  },
  {
   "cell_type": "code",
   "execution_count": 6,
   "id": "08db667a",
   "metadata": {},
   "outputs": [
    {
     "data": {
      "text/plain": [
       "CreditScore         460\n",
       "Geography             3\n",
       "Gender                2\n",
       "Age                  70\n",
       "Tenure               11\n",
       "Balance            6382\n",
       "NumOfProducts         4\n",
       "HasCrCard             2\n",
       "IsActiveMember        2\n",
       "EstimatedSalary    9999\n",
       "Exited                2\n",
       "dtype: int64"
      ]
     },
     "execution_count": 6,
     "metadata": {},
     "output_type": "execute_result"
    }
   ],
   "source": [
    "df.nunique()"
   ]
  },
  {
   "cell_type": "markdown",
   "id": "ac9ed362",
   "metadata": {},
   "source": [
    "Plot a pie chart "
   ]
  },
  {
   "cell_type": "code",
   "execution_count": 7,
   "id": "9fbf7d20",
   "metadata": {},
   "outputs": [
    {
     "data": {
      "image/png": "[encoded data removed]",
      "text/plain": [
       "<Figure size 720x576 with 1 Axes>"
      ]
     },
     "metadata": {},
     "output_type": "display_data"
    }
   ],
   "source": [
    "labels = 'Exited(Churned)', 'Retained'\n",
    "sizes = [df.Exited[df['Exited']==1].count(), df.Exited[df['Exited']==0].count()]\n",
    "explode = (0, 0.1)\n",
    "fig1, ax1 = plt.subplots(figsize=(10, 8))\n",
    "ax1.pie(sizes, explode=explode, labels=labels, autopct='%1.1f%%',\n",
    "        shadow=True, startangle=90)\n",
    "ax1.axis('equal')\n",
    "plt.title(\"Proportion of customer churned and retained\", size = 20)\n",
    "plt.show()"
   ]
  },
  {
   "cell_type": "code",
   "execution_count": 8,
   "id": "ff802c5a",
   "metadata": {},
   "outputs": [
    {
     "data": {
      "text/plain": [
       "<AxesSubplot:xlabel='IsActiveMember', ylabel='count'>"
      ]
     },
     "execution_count": 8,
     "metadata": {},
     "output_type": "execute_result"
    },
    {
     "data": {
      "image/png": "[encoded data removed]",
      "text/plain": [
       "<Figure size 1440x864 with 4 Axes>"
      ]
     },
     "metadata": {
      "needs_background": "light"
     },
     "output_type": "display_data"
    }
   ],
   "source": [
    "import seaborn as sns\n",
    "# We first review the 'Status' relation with categorical variables\n",
    "fig, axarr = plt.subplots(2, 2, figsize=(20, 12))\n",
    "sns.countplot(x='Geography', hue = 'Exited',data = df, ax=axarr[0][0])\n",
    "sns.countplot(x='Gender', hue = 'Exited',data = df, ax=axarr[0][1])\n",
    "sns.countplot(x='HasCrCard', hue = 'Exited',data = df, ax=axarr[1][0])\n",
    "sns.countplot(x='IsActiveMember', hue = 'Exited',data = df, ax=axarr[1][1])"
   ]
  },
  {
   "cell_type": "code",
   "execution_count": 10,
   "id": "2e12ffdb",
   "metadata": {},
   "outputs": [
    {
     "data": {
      "text/plain": [
       "<AxesSubplot:xlabel='Exited', ylabel='EstimatedSalary'>"
      ]
     },
     "execution_count": 10,
     "metadata": {},
     "output_type": "execute_result"
    },
    {
     "data": {
      "image/png": "[encoded data removed]",
      "text/plain": [
       "<Figure size 1440x864 with 6 Axes>"
      ]
     },
     "metadata": {
      "needs_background": "light"
     },
     "output_type": "display_data"
    }
   ],
   "source": [
    "# Relations based on the continuous data attributes\n",
    "fig, axarr = plt.subplots(3, 2, figsize=(20, 12))\n",
    "sns.boxplot(y='CreditScore',x = 'Exited', hue = 'Exited',data = df, ax=axarr[0][0])\n",
    "sns.boxplot(y='Age',x = 'Exited', hue = 'Exited',data = df , ax=axarr[0][1])\n",
    "sns.boxplot(y='Tenure',x = 'Exited', hue = 'Exited',data = df, ax=axarr[1][0])\n",
    "sns.boxplot(y='Balance',x = 'Exited', hue = 'Exited',data = df, ax=axarr[1][1])\n",
    "sns.boxplot(y='NumOfProducts',x = 'Exited', hue = 'Exited',data = df, ax=axarr[2][0])\n",
    "sns.boxplot(y='EstimatedSalary',x = 'Exited', hue = 'Exited',data = df, ax=axarr[2][1])"
   ]
  },
  {
   "cell_type": "code",
   "execution_count": 11,
   "id": "b8f86796",
   "metadata": {},
   "outputs": [
    {
     "data": {
      "text/plain": [
       "<matplotlib.legend.Legend at 0x1e7db7f64c0>"
      ]
     },
     "execution_count": 11,
     "metadata": {},
     "output_type": "execute_result"
    },
    {
     "data": {
      "image/png": "[encoded data removed]",
      "text/plain": [
       "<Figure size 432x288 with 1 Axes>"
      ]
     },
     "metadata": {
      "needs_background": "light"
     },
     "output_type": "display_data"
    }
   ],
   "source": [
    "tenure_churn_no = df[df.Exited==0].Tenure\n",
    "tenure_churn_yes = df[df.Exited==1].Tenure\n",
    "\n",
    "plt.xlabel(\"tenure\")\n",
    "plt.ylabel(\"Number Of Customers\")\n",
    "plt.title(\"Customer Churn Prediction Visualiztion\")\n",
    "\n",
    "plt.hist([tenure_churn_yes, tenure_churn_no], rwidth=0.95, color=['red','green'],label=['Churn=Yes','Churn=No'])\n",
    "plt.legend()"
   ]
  },
  {
   "cell_type": "markdown",
   "id": "a9bd73ab",
   "metadata": {},
   "source": [
    "Feature engineering"
   ]
  },
  {
   "cell_type": "code",
   "execution_count": 12,
   "id": "5c7f246e",
   "metadata": {},
   "outputs": [
    {
     "data": {
      "text/plain": [
       "(-1.0, 5.0)"
      ]
     },
     "execution_count": 12,
     "metadata": {},
     "output_type": "execute_result"
    },
    {
     "data": {
      "image/png": "[encoded data removed]",
      "text/plain": [
       "<Figure size 432x288 with 1 Axes>"
      ]
     },
     "metadata": {
      "needs_background": "light"
     },
     "output_type": "display_data"
    }
   ],
   "source": [
    "df['BalanceSalaryRatio'] = df.Balance/df.EstimatedSalary\n",
    "sns.boxplot(y='BalanceSalaryRatio',x = 'Exited', hue = 'Exited',data = df)\n",
    "plt.ylim(-1, 5)"
   ]
  },
  {
   "cell_type": "code",
   "execution_count": 13,
   "id": "a2c2243c",
   "metadata": {},
   "outputs": [
    {
     "data": {
      "image/png": "[encoded data removed]",
      "text/plain": [
       "<Figure size 432x288 with 1 Axes>"
      ]
     },
     "metadata": {
      "needs_background": "light"
     },
     "output_type": "display_data"
    }
   ],
   "source": [
    "df['TenureByAge'] = df.Tenure/(df.Age)\n",
    "sns.boxplot(y='TenureByAge',x = 'Exited', hue = 'Exited',data = df)\n",
    "plt.ylim(-1, 1)\n",
    "plt.show()"
   ]
  },
  {
   "cell_type": "code",
   "execution_count": 14,
   "id": "a8840e69",
   "metadata": {},
   "outputs": [],
   "source": [
    "def print_unique_col_values(df):\n",
    "       for column in df:\n",
    "            if df[column].dtypes=='object':\n",
    "                print(f'{column}: {df[column].unique()}')"
   ]
  },
  {
   "cell_type": "code",
   "execution_count": 15,
   "id": "92907c91",
   "metadata": {},
   "outputs": [
    {
     "name": "stdout",
     "output_type": "stream",
     "text": [
      "Geography: ['France' 'Spain' 'Germany']\n",
      "Gender: ['Female' 'Male']\n"
     ]
    }
   ],
   "source": [
    "print_unique_col_values(df)"
   ]
  },
  {
   "cell_type": "markdown",
   "id": "ffb54b12",
   "metadata": {},
   "source": [
    "LABEL ENCODING"
   ]
  },
  {
   "cell_type": "code",
   "execution_count": 16,
   "id": "def1a578",
   "metadata": {},
   "outputs": [],
   "source": [
    "df['Gender'].replace({'Male': 1,'Female': 0},inplace=True)"
   ]
  },
  {
   "cell_type": "markdown",
   "id": "cdaca91d",
   "metadata": {},
   "source": [
    "One hot encoding"
   ]
  },
  {
   "cell_type": "code",
   "execution_count": 17,
   "id": "35189639",
   "metadata": {},
   "outputs": [
    {
     "data": {
      "text/html": [
       "<div>\n",
       "<style scoped>\n",
       "    .dataframe tbody tr th:only-of-type {\n",
       "        vertical-align: middle;\n",
       "    }\n",
       "\n",
       "    .dataframe tbody tr th {\n",
       "        vertical-align: top;\n",
       "    }\n",
       "\n",
       "    .dataframe thead th {\n",
       "        text-align: right;\n",
       "    }\n",
       "</style>\n",
       "<table border=\"1\" class=\"dataframe\">\n",
       "  <thead>\n",
       "    <tr style=\"text-align: right;\">\n",
       "      <th></th>\n",
       "      <th>CreditScore</th>\n",
       "      <th>Gender</th>\n",
       "      <th>Age</th>\n",
       "      <th>Tenure</th>\n",
       "      <th>Balance</th>\n",
       "      <th>NumOfProducts</th>\n",
       "      <th>HasCrCard</th>\n",
       "      <th>IsActiveMember</th>\n",
       "      <th>EstimatedSalary</th>\n",
       "      <th>Exited</th>\n",
       "      <th>BalanceSalaryRatio</th>\n",
       "      <th>TenureByAge</th>\n",
       "      <th>Geography_France</th>\n",
       "      <th>Geography_Germany</th>\n",
       "      <th>Geography_Spain</th>\n",
       "    </tr>\n",
       "  </thead>\n",
       "  <tbody>\n",
       "    <tr>\n",
       "      <th>0</th>\n",
       "      <td>619</td>\n",
       "      <td>0</td>\n",
       "      <td>42</td>\n",
       "      <td>2</td>\n",
       "      <td>0.00</td>\n",
       "      <td>1</td>\n",
       "      <td>1</td>\n",
       "      <td>1</td>\n",
       "      <td>101348.88</td>\n",
       "      <td>1</td>\n",
       "      <td>0.000000</td>\n",
       "      <td>0.047619</td>\n",
       "      <td>1</td>\n",
       "      <td>0</td>\n",
       "      <td>0</td>\n",
       "    </tr>\n",
       "    <tr>\n",
       "      <th>1</th>\n",
       "      <td>608</td>\n",
       "      <td>0</td>\n",
       "      <td>41</td>\n",
       "      <td>1</td>\n",
       "      <td>83807.86</td>\n",
       "      <td>1</td>\n",
       "      <td>0</td>\n",
       "      <td>1</td>\n",
       "      <td>112542.58</td>\n",
       "      <td>0</td>\n",
       "      <td>0.744677</td>\n",
       "      <td>0.024390</td>\n",
       "      <td>0</td>\n",
       "      <td>0</td>\n",
       "      <td>1</td>\n",
       "    </tr>\n",
       "    <tr>\n",
       "      <th>2</th>\n",
       "      <td>502</td>\n",
       "      <td>0</td>\n",
       "      <td>42</td>\n",
       "      <td>8</td>\n",
       "      <td>159660.80</td>\n",
       "      <td>3</td>\n",
       "      <td>1</td>\n",
       "      <td>0</td>\n",
       "      <td>113931.57</td>\n",
       "      <td>1</td>\n",
       "      <td>1.401375</td>\n",
       "      <td>0.190476</td>\n",
       "      <td>1</td>\n",
       "      <td>0</td>\n",
       "      <td>0</td>\n",
       "    </tr>\n",
       "    <tr>\n",
       "      <th>3</th>\n",
       "      <td>699</td>\n",
       "      <td>0</td>\n",
       "      <td>39</td>\n",
       "      <td>1</td>\n",
       "      <td>0.00</td>\n",
       "      <td>2</td>\n",
       "      <td>0</td>\n",
       "      <td>0</td>\n",
       "      <td>93826.63</td>\n",
       "      <td>0</td>\n",
       "      <td>0.000000</td>\n",
       "      <td>0.025641</td>\n",
       "      <td>1</td>\n",
       "      <td>0</td>\n",
       "      <td>0</td>\n",
       "    </tr>\n",
       "    <tr>\n",
       "      <th>4</th>\n",
       "      <td>850</td>\n",
       "      <td>0</td>\n",
       "      <td>43</td>\n",
       "      <td>2</td>\n",
       "      <td>125510.82</td>\n",
       "      <td>1</td>\n",
       "      <td>1</td>\n",
       "      <td>1</td>\n",
       "      <td>79084.10</td>\n",
       "      <td>0</td>\n",
       "      <td>1.587055</td>\n",
       "      <td>0.046512</td>\n",
       "      <td>0</td>\n",
       "      <td>0</td>\n",
       "      <td>1</td>\n",
       "    </tr>\n",
       "  </tbody>\n",
       "</table>\n",
       "</div>"
      ],
      "text/plain": [
       "   CreditScore  Gender  Age  Tenure    Balance  NumOfProducts  HasCrCard  \\\n",
       "0          619       0   42       2       0.00              1          1   \n",
       "1          608       0   41       1   83807.86              1          0   \n",
       "2          502       0   42       8  159660.80              3          1   \n",
       "3          699       0   39       1       0.00              2          0   \n",
       "4          850       0   43       2  125510.82              1          1   \n",
       "\n",
       "   IsActiveMember  EstimatedSalary  Exited  BalanceSalaryRatio  TenureByAge  \\\n",
       "0               1        101348.88       1            0.000000     0.047619   \n",
       "1               1        112542.58       0            0.744677     0.024390   \n",
       "2               0        113931.57       1            1.401375     0.190476   \n",
       "3               0         93826.63       0            0.000000     0.025641   \n",
       "4               1         79084.10       0            1.587055     0.046512   \n",
       "\n",
       "   Geography_France  Geography_Germany  Geography_Spain  \n",
       "0                 1                  0                0  \n",
       "1                 0                  0                1  \n",
       "2                 1                  0                0  \n",
       "3                 1                  0                0  \n",
       "4                 0                  0                1  "
      ]
     },
     "execution_count": 17,
     "metadata": {},
     "output_type": "execute_result"
    }
   ],
   "source": [
    "df1 = pd.get_dummies(data=df, columns=['Geography'])\n",
    "df1.head()"
   ]
  },
  {
   "cell_type": "code",
   "execution_count": 18,
   "id": "f2eddc8b",
   "metadata": {},
   "outputs": [],
   "source": [
    "scale_var = ['Tenure','CreditScore','Age','Balance','NumOfProducts','EstimatedSalary']\n",
    "\n",
    "from sklearn.preprocessing import MinMaxScaler\n",
    "scaler = MinMaxScaler()\n",
    "df1[scale_var] = scaler.fit_transform(df1[scale_var])"
   ]
  },
  {
   "cell_type": "code",
   "execution_count": 19,
   "id": "a5ac567c",
   "metadata": {},
   "outputs": [
    {
     "data": {
      "text/html": [
       "<div>\n",
       "<style scoped>\n",
       "    .dataframe tbody tr th:only-of-type {\n",
       "        vertical-align: middle;\n",
       "    }\n",
       "\n",
       "    .dataframe tbody tr th {\n",
       "        vertical-align: top;\n",
       "    }\n",
       "\n",
       "    .dataframe thead th {\n",
       "        text-align: right;\n",
       "    }\n",
       "</style>\n",
       "<table border=\"1\" class=\"dataframe\">\n",
       "  <thead>\n",
       "    <tr style=\"text-align: right;\">\n",
       "      <th></th>\n",
       "      <th>CreditScore</th>\n",
       "      <th>Gender</th>\n",
       "      <th>Age</th>\n",
       "      <th>Tenure</th>\n",
       "      <th>Balance</th>\n",
       "      <th>NumOfProducts</th>\n",
       "      <th>HasCrCard</th>\n",
       "      <th>IsActiveMember</th>\n",
       "      <th>EstimatedSalary</th>\n",
       "      <th>Exited</th>\n",
       "      <th>BalanceSalaryRatio</th>\n",
       "      <th>TenureByAge</th>\n",
       "      <th>Geography_France</th>\n",
       "      <th>Geography_Germany</th>\n",
       "      <th>Geography_Spain</th>\n",
       "    </tr>\n",
       "  </thead>\n",
       "  <tbody>\n",
       "    <tr>\n",
       "      <th>0</th>\n",
       "      <td>0.538</td>\n",
       "      <td>0</td>\n",
       "      <td>0.324324</td>\n",
       "      <td>0.2</td>\n",
       "      <td>0.000000</td>\n",
       "      <td>0.000000</td>\n",
       "      <td>1</td>\n",
       "      <td>1</td>\n",
       "      <td>0.506735</td>\n",
       "      <td>1</td>\n",
       "      <td>0.000000</td>\n",
       "      <td>0.047619</td>\n",
       "      <td>1</td>\n",
       "      <td>0</td>\n",
       "      <td>0</td>\n",
       "    </tr>\n",
       "    <tr>\n",
       "      <th>1</th>\n",
       "      <td>0.516</td>\n",
       "      <td>0</td>\n",
       "      <td>0.310811</td>\n",
       "      <td>0.1</td>\n",
       "      <td>0.334031</td>\n",
       "      <td>0.000000</td>\n",
       "      <td>0</td>\n",
       "      <td>1</td>\n",
       "      <td>0.562709</td>\n",
       "      <td>0</td>\n",
       "      <td>0.744677</td>\n",
       "      <td>0.024390</td>\n",
       "      <td>0</td>\n",
       "      <td>0</td>\n",
       "      <td>1</td>\n",
       "    </tr>\n",
       "    <tr>\n",
       "      <th>2</th>\n",
       "      <td>0.304</td>\n",
       "      <td>0</td>\n",
       "      <td>0.324324</td>\n",
       "      <td>0.8</td>\n",
       "      <td>0.636357</td>\n",
       "      <td>0.666667</td>\n",
       "      <td>1</td>\n",
       "      <td>0</td>\n",
       "      <td>0.569654</td>\n",
       "      <td>1</td>\n",
       "      <td>1.401375</td>\n",
       "      <td>0.190476</td>\n",
       "      <td>1</td>\n",
       "      <td>0</td>\n",
       "      <td>0</td>\n",
       "    </tr>\n",
       "    <tr>\n",
       "      <th>3</th>\n",
       "      <td>0.698</td>\n",
       "      <td>0</td>\n",
       "      <td>0.283784</td>\n",
       "      <td>0.1</td>\n",
       "      <td>0.000000</td>\n",
       "      <td>0.333333</td>\n",
       "      <td>0</td>\n",
       "      <td>0</td>\n",
       "      <td>0.469120</td>\n",
       "      <td>0</td>\n",
       "      <td>0.000000</td>\n",
       "      <td>0.025641</td>\n",
       "      <td>1</td>\n",
       "      <td>0</td>\n",
       "      <td>0</td>\n",
       "    </tr>\n",
       "    <tr>\n",
       "      <th>4</th>\n",
       "      <td>1.000</td>\n",
       "      <td>0</td>\n",
       "      <td>0.337838</td>\n",
       "      <td>0.2</td>\n",
       "      <td>0.500246</td>\n",
       "      <td>0.000000</td>\n",
       "      <td>1</td>\n",
       "      <td>1</td>\n",
       "      <td>0.395400</td>\n",
       "      <td>0</td>\n",
       "      <td>1.587055</td>\n",
       "      <td>0.046512</td>\n",
       "      <td>0</td>\n",
       "      <td>0</td>\n",
       "      <td>1</td>\n",
       "    </tr>\n",
       "  </tbody>\n",
       "</table>\n",
       "</div>"
      ],
      "text/plain": [
       "   CreditScore  Gender       Age  Tenure   Balance  NumOfProducts  HasCrCard  \\\n",
       "0        0.538       0  0.324324     0.2  0.000000       0.000000          1   \n",
       "1        0.516       0  0.310811     0.1  0.334031       0.000000          0   \n",
       "2        0.304       0  0.324324     0.8  0.636357       0.666667          1   \n",
       "3        0.698       0  0.283784     0.1  0.000000       0.333333          0   \n",
       "4        1.000       0  0.337838     0.2  0.500246       0.000000          1   \n",
       "\n",
       "   IsActiveMember  EstimatedSalary  Exited  BalanceSalaryRatio  TenureByAge  \\\n",
       "0               1         0.506735       1            0.000000     0.047619   \n",
       "1               1         0.562709       0            0.744677     0.024390   \n",
       "2               0         0.569654       1            1.401375     0.190476   \n",
       "3               0         0.469120       0            0.000000     0.025641   \n",
       "4               1         0.395400       0            1.587055     0.046512   \n",
       "\n",
       "   Geography_France  Geography_Germany  Geography_Spain  \n",
       "0                 1                  0                0  \n",
       "1                 0                  0                1  \n",
       "2                 1                  0                0  \n",
       "3                 1                  0                0  \n",
       "4                 0                  0                1  "
      ]
     },
     "execution_count": 19,
     "metadata": {},
     "output_type": "execute_result"
    }
   ],
   "source": [
    "df1.head()"
   ]
  },
  {
   "cell_type": "code",
   "execution_count": 20,
   "id": "e6fc8771",
   "metadata": {},
   "outputs": [],
   "source": [
    "X = df1.drop('Exited',axis='columns')  ##independent features\n",
    "y = df1['Exited']  ##dependent feature\n",
    "\n",
    "from sklearn.model_selection import train_test_split\n",
    "X_train, X_test, y_train, y_test = train_test_split(X,y,test_size=0.2,random_state=5)"
   ]
  },
  {
   "cell_type": "code",
   "execution_count": 21,
   "id": "3451d04c",
   "metadata": {},
   "outputs": [
    {
     "data": {
      "text/plain": [
       "14"
      ]
     },
     "execution_count": 21,
     "metadata": {},
     "output_type": "execute_result"
    }
   ],
   "source": [
    "len(X_train.columns)"
   ]
  },
  {
   "cell_type": "code",
   "execution_count": null,
   "id": "f0bcba9c",
   "metadata": {},
   "outputs": [],
   "source": []
  },
  {
   "cell_type": "code",
   "execution_count": 38,
   "id": "73c9fe09",
   "metadata": {},
   "outputs": [
    {
     "name": "stdout",
     "output_type": "stream",
     "text": [
      "Epoch 1/100\n",
      "250/250 [==============================] - 1s 2ms/step - loss: 0.5927 - accuracy: 0.7640\n",
      "Epoch 2/100\n",
      "250/250 [==============================] - 1s 2ms/step - loss: 0.5864 - accuracy: 0.7896\n",
      "Epoch 3/100\n",
      "250/250 [==============================] - 1s 2ms/step - loss: 0.4818 - accuracy: 0.8030\n",
      "Epoch 4/100\n",
      "250/250 [==============================] - 1s 2ms/step - loss: 0.4492 - accuracy: 0.8152\n",
      "Epoch 5/100\n",
      "250/250 [==============================] - 1s 2ms/step - loss: 0.4269 - accuracy: 0.8167\n",
      "Epoch 6/100\n",
      "250/250 [==============================] - 1s 2ms/step - loss: 0.4315 - accuracy: 0.8190\n",
      "Epoch 7/100\n",
      "250/250 [==============================] - 1s 2ms/step - loss: 0.5539 - accuracy: 0.8090\n",
      "Epoch 8/100\n",
      "250/250 [==============================] - 1s 3ms/step - loss: 0.4319 - accuracy: 0.8238\n",
      "Epoch 9/100\n",
      "250/250 [==============================] - 1s 2ms/step - loss: 0.4074 - accuracy: 0.8284\n",
      "Epoch 10/100\n",
      "250/250 [==============================] - 1s 3ms/step - loss: 0.3944 - accuracy: 0.8341\n",
      "Epoch 11/100\n",
      "250/250 [==============================] - 1s 2ms/step - loss: 0.5720 - accuracy: 0.8229\n",
      "Epoch 12/100\n",
      "250/250 [==============================] - 1s 2ms/step - loss: 0.3711 - accuracy: 0.8516\n",
      "Epoch 13/100\n",
      "250/250 [==============================] - 1s 3ms/step - loss: 0.3534 - accuracy: 0.8551\n",
      "Epoch 14/100\n",
      "250/250 [==============================] - 1s 3ms/step - loss: 0.3493 - accuracy: 0.8535\n",
      "Epoch 15/100\n",
      "250/250 [==============================] - 1s 2ms/step - loss: 0.3462 - accuracy: 0.8597\n",
      "Epoch 16/100\n",
      "250/250 [==============================] - 1s 2ms/step - loss: 0.3426 - accuracy: 0.8615\n",
      "Epoch 17/100\n",
      "250/250 [==============================] - 1s 2ms/step - loss: 0.3412 - accuracy: 0.8610\n",
      "Epoch 18/100\n",
      "250/250 [==============================] - 1s 2ms/step - loss: 0.3422 - accuracy: 0.8593\n",
      "Epoch 19/100\n",
      "250/250 [==============================] - 1s 2ms/step - loss: 0.3386 - accuracy: 0.8615\n",
      "Epoch 20/100\n",
      "250/250 [==============================] - 1s 2ms/step - loss: 0.3381 - accuracy: 0.8624\n",
      "Epoch 21/100\n",
      "250/250 [==============================] - 1s 2ms/step - loss: 0.3366 - accuracy: 0.8650\n",
      "Epoch 22/100\n",
      "250/250 [==============================] - 1s 2ms/step - loss: 0.3376 - accuracy: 0.8625\n",
      "Epoch 23/100\n",
      "250/250 [==============================] - 1s 2ms/step - loss: 0.3354 - accuracy: 0.8619\n",
      "Epoch 24/100\n",
      "250/250 [==============================] - 1s 2ms/step - loss: 0.3359 - accuracy: 0.8630\n",
      "Epoch 25/100\n",
      "250/250 [==============================] - 1s 2ms/step - loss: 0.3337 - accuracy: 0.8659\n",
      "Epoch 26/100\n",
      "250/250 [==============================] - 1s 2ms/step - loss: 0.3324 - accuracy: 0.8649\n",
      "Epoch 27/100\n",
      "250/250 [==============================] - 1s 2ms/step - loss: 0.3317 - accuracy: 0.8648\n",
      "Epoch 28/100\n",
      "250/250 [==============================] - 1s 2ms/step - loss: 0.3388 - accuracy: 0.8615\n",
      "Epoch 29/100\n",
      "250/250 [==============================] - 1s 2ms/step - loss: 0.3395 - accuracy: 0.8630\n",
      "Epoch 30/100\n",
      "250/250 [==============================] - 1s 2ms/step - loss: 0.3351 - accuracy: 0.8634\n",
      "Epoch 31/100\n",
      "250/250 [==============================] - 1s 2ms/step - loss: 0.3333 - accuracy: 0.8644\n",
      "Epoch 32/100\n",
      "250/250 [==============================] - 1s 2ms/step - loss: 0.3362 - accuracy: 0.8637\n",
      "Epoch 33/100\n",
      "250/250 [==============================] - 1s 2ms/step - loss: 0.3320 - accuracy: 0.8674\n",
      "Epoch 34/100\n",
      "250/250 [==============================] - 1s 2ms/step - loss: 0.3315 - accuracy: 0.8626\n",
      "Epoch 35/100\n",
      "250/250 [==============================] - 1s 2ms/step - loss: 0.3310 - accuracy: 0.8654\n",
      "Epoch 36/100\n",
      "250/250 [==============================] - 1s 2ms/step - loss: 0.3273 - accuracy: 0.8655\n",
      "Epoch 37/100\n",
      "250/250 [==============================] - 1s 2ms/step - loss: 0.3279 - accuracy: 0.8644\n",
      "Epoch 38/100\n",
      "250/250 [==============================] - 1s 2ms/step - loss: 0.3259 - accuracy: 0.8668\n",
      "Epoch 39/100\n",
      "250/250 [==============================] - 1s 2ms/step - loss: 0.3451 - accuracy: 0.8585\n",
      "Epoch 40/100\n",
      "250/250 [==============================] - 1s 2ms/step - loss: 0.3361 - accuracy: 0.8615\n",
      "Epoch 41/100\n",
      "250/250 [==============================] - 1s 2ms/step - loss: 0.3325 - accuracy: 0.8658\n",
      "Epoch 42/100\n",
      "250/250 [==============================] - 1s 2ms/step - loss: 0.3285 - accuracy: 0.8649\n",
      "Epoch 43/100\n",
      "250/250 [==============================] - 1s 2ms/step - loss: 0.3264 - accuracy: 0.8661\n",
      "Epoch 44/100\n",
      "250/250 [==============================] - 1s 2ms/step - loss: 0.3253 - accuracy: 0.8665\n",
      "Epoch 45/100\n",
      "250/250 [==============================] - 1s 2ms/step - loss: 0.3262 - accuracy: 0.8662\n",
      "Epoch 46/100\n",
      "250/250 [==============================] - 1s 2ms/step - loss: 0.3250 - accuracy: 0.8668\n",
      "Epoch 47/100\n",
      "250/250 [==============================] - 1s 2ms/step - loss: 0.3242 - accuracy: 0.8683\n",
      "Epoch 48/100\n",
      "250/250 [==============================] - 1s 2ms/step - loss: 0.3242 - accuracy: 0.8665\n",
      "Epoch 49/100\n",
      "250/250 [==============================] - 1s 3ms/step - loss: 0.3234 - accuracy: 0.8655\n",
      "Epoch 50/100\n",
      "250/250 [==============================] - 1s 3ms/step - loss: 0.3228 - accuracy: 0.8661\n",
      "Epoch 51/100\n",
      "250/250 [==============================] - 1s 3ms/step - loss: 0.3226 - accuracy: 0.8685\n",
      "Epoch 52/100\n",
      "250/250 [==============================] - 1s 3ms/step - loss: 0.3222 - accuracy: 0.8674\n",
      "Epoch 53/100\n",
      "250/250 [==============================] - 1s 3ms/step - loss: 0.3268 - accuracy: 0.8666\n",
      "Epoch 54/100\n",
      "250/250 [==============================] - 1s 3ms/step - loss: 0.3222 - accuracy: 0.8660\n",
      "Epoch 55/100\n",
      "250/250 [==============================] - 1s 3ms/step - loss: 0.3256 - accuracy: 0.8681\n",
      "Epoch 56/100\n",
      "250/250 [==============================] - 1s 3ms/step - loss: 0.3194 - accuracy: 0.8689\n",
      "Epoch 57/100\n",
      "250/250 [==============================] - 1s 3ms/step - loss: 0.3200 - accuracy: 0.8679\n",
      "Epoch 58/100\n",
      "250/250 [==============================] - 1s 3ms/step - loss: 0.3222 - accuracy: 0.8681\n",
      "Epoch 59/100\n",
      "250/250 [==============================] - 1s 3ms/step - loss: 0.3188 - accuracy: 0.8701\n",
      "Epoch 60/100\n",
      "250/250 [==============================] - 1s 3ms/step - loss: 0.3216 - accuracy: 0.8694\n",
      "Epoch 61/100\n",
      "250/250 [==============================] - 1s 3ms/step - loss: 0.3190 - accuracy: 0.8683\n",
      "Epoch 62/100\n",
      "250/250 [==============================] - 1s 3ms/step - loss: 0.3173 - accuracy: 0.8680\n",
      "Epoch 63/100\n",
      "250/250 [==============================] - 1s 3ms/step - loss: 0.3173 - accuracy: 0.8698\n",
      "Epoch 64/100\n",
      "250/250 [==============================] - 1s 3ms/step - loss: 0.3172 - accuracy: 0.8721\n",
      "Epoch 65/100\n",
      "250/250 [==============================] - 1s 3ms/step - loss: 0.3169 - accuracy: 0.8716\n",
      "Epoch 66/100\n",
      "250/250 [==============================] - 1s 3ms/step - loss: 0.3172 - accuracy: 0.8696\n",
      "Epoch 67/100\n",
      "250/250 [==============================] - 1s 3ms/step - loss: 0.3157 - accuracy: 0.8725\n",
      "Epoch 68/100\n",
      "250/250 [==============================] - 1s 3ms/step - loss: 0.3173 - accuracy: 0.8694\n",
      "Epoch 69/100\n",
      "250/250 [==============================] - 1s 3ms/step - loss: 0.3157 - accuracy: 0.8725\n",
      "Epoch 70/100\n",
      "250/250 [==============================] - 1s 3ms/step - loss: 0.3161 - accuracy: 0.8706\n",
      "Epoch 71/100\n",
      "250/250 [==============================] - 1s 3ms/step - loss: 0.3146 - accuracy: 0.8726\n",
      "Epoch 72/100\n",
      "250/250 [==============================] - 1s 3ms/step - loss: 0.3143 - accuracy: 0.8711\n",
      "Epoch 73/100\n",
      "250/250 [==============================] - 1s 3ms/step - loss: 0.3138 - accuracy: 0.8709\n",
      "Epoch 74/100\n",
      "250/250 [==============================] - 1s 3ms/step - loss: 0.3132 - accuracy: 0.8721\n",
      "Epoch 75/100\n",
      "250/250 [==============================] - 1s 2ms/step - loss: 0.3143 - accuracy: 0.8702\n",
      "Epoch 76/100\n",
      "250/250 [==============================] - 1s 2ms/step - loss: 0.3128 - accuracy: 0.8729\n",
      "Epoch 77/100\n",
      "250/250 [==============================] - 1s 2ms/step - loss: 0.3140 - accuracy: 0.8715\n",
      "Epoch 78/100\n",
      "250/250 [==============================] - 1s 3ms/step - loss: 0.3138 - accuracy: 0.8710\n",
      "Epoch 79/100\n",
      "250/250 [==============================] - 1s 3ms/step - loss: 0.3264 - accuracy: 0.8675\n",
      "Epoch 80/100\n",
      "250/250 [==============================] - 1s 3ms/step - loss: 0.3196 - accuracy: 0.8714\n",
      "Epoch 81/100\n"
     ]
    },
    {
     "name": "stdout",
     "output_type": "stream",
     "text": [
      "250/250 [==============================] - 1s 3ms/step - loss: 0.3169 - accuracy: 0.8711\n",
      "Epoch 82/100\n",
      "250/250 [==============================] - 1s 2ms/step - loss: 0.3152 - accuracy: 0.8736\n",
      "Epoch 83/100\n",
      "250/250 [==============================] - 1s 2ms/step - loss: 0.3149 - accuracy: 0.8723\n",
      "Epoch 84/100\n",
      "250/250 [==============================] - 1s 2ms/step - loss: 0.3141 - accuracy: 0.8710\n",
      "Epoch 85/100\n",
      "250/250 [==============================] - 1s 3ms/step - loss: 0.3139 - accuracy: 0.8716\n",
      "Epoch 86/100\n",
      "250/250 [==============================] - 1s 2ms/step - loss: 0.3111 - accuracy: 0.8734\n",
      "Epoch 87/100\n",
      "250/250 [==============================] - 1s 2ms/step - loss: 0.3101 - accuracy: 0.8754\n",
      "Epoch 88/100\n",
      "250/250 [==============================] - 1s 2ms/step - loss: 0.3122 - accuracy: 0.8731\n",
      "Epoch 89/100\n",
      "250/250 [==============================] - 1s 2ms/step - loss: 0.3102 - accuracy: 0.8744\n",
      "Epoch 90/100\n",
      "250/250 [==============================] - 1s 2ms/step - loss: 0.3098 - accuracy: 0.8761\n",
      "Epoch 91/100\n",
      "250/250 [==============================] - 1s 2ms/step - loss: 0.3087 - accuracy: 0.8749\n",
      "Epoch 92/100\n",
      "250/250 [==============================] - 1s 2ms/step - loss: 0.3088 - accuracy: 0.8739\n",
      "Epoch 93/100\n",
      "250/250 [==============================] - 1s 2ms/step - loss: 0.3075 - accuracy: 0.8727\n",
      "Epoch 94/100\n",
      "250/250 [==============================] - 1s 3ms/step - loss: 0.3081 - accuracy: 0.8733\n",
      "Epoch 95/100\n",
      "250/250 [==============================] - 1s 3ms/step - loss: 0.3075 - accuracy: 0.8744\n",
      "Epoch 96/100\n",
      "250/250 [==============================] - 1s 3ms/step - loss: 0.3072 - accuracy: 0.8739\n",
      "Epoch 97/100\n",
      "250/250 [==============================] - 1s 2ms/step - loss: 0.3068 - accuracy: 0.8749\n",
      "Epoch 98/100\n",
      "250/250 [==============================] - 1s 2ms/step - loss: 0.3064 - accuracy: 0.8730\n",
      "Epoch 99/100\n",
      "250/250 [==============================] - 1s 2ms/step - loss: 0.3046 - accuracy: 0.8750\n",
      "Epoch 100/100\n",
      "250/250 [==============================] - 1s 2ms/step - loss: 0.3039 - accuracy: 0.8773\n"
     ]
    },
    {
     "data": {
      "text/plain": [
       "<keras.callbacks.History at 0x1e7f1b084c0>"
      ]
     },
     "execution_count": 38,
     "metadata": {},
     "output_type": "execute_result"
    }
   ],
   "source": [
    "import tensorflow as tf\n",
    "from tensorflow import keras\n",
    "\n",
    "\n",
    "model = keras.Sequential([\n",
    "    keras.layers.Dense(64, activation='relu'),\n",
    "    keras.layers.Dense(32, activation='relu'),\n",
    "    keras.layers.Dense(16, activation='relu'),\n",
    "    keras.layers.Dense(1, activation='sigmoid')\n",
    "])\n",
    "\n",
    "\n",
    "model.compile(optimizer='adam',\n",
    "              loss='binary_crossentropy',\n",
    "              metrics=['accuracy'])\n",
    "\n",
    "model.fit(X_train, y_train, epochs=100)"
   ]
  },
  {
   "cell_type": "code",
   "execution_count": 39,
   "id": "7c341102",
   "metadata": {},
   "outputs": [
    {
     "name": "stdout",
     "output_type": "stream",
     "text": [
      "63/63 [==============================] - 4s 1ms/step - loss: 0.3623 - accuracy: 0.8515\n"
     ]
    },
    {
     "data": {
      "text/plain": [
       "[0.36228570342063904, 0.8514999747276306]"
      ]
     },
     "execution_count": 39,
     "metadata": {},
     "output_type": "execute_result"
    }
   ],
   "source": [
    "model.evaluate(X_test,y_test)"
   ]
  },
  {
   "cell_type": "code",
   "execution_count": 40,
   "id": "ad60af47",
   "metadata": {},
   "outputs": [
    {
     "name": "stdout",
     "output_type": "stream",
     "text": [
      "63/63 [==============================] - 0s 966us/step\n"
     ]
    },
    {
     "data": {
      "text/plain": [
       "array([[0.0245308 ],\n",
       "       [0.03881396],\n",
       "       [0.02656837],\n",
       "       ...,\n",
       "       [0.01729369],\n",
       "       [0.03116886],\n",
       "       [0.01757877]], dtype=float32)"
      ]
     },
     "execution_count": 40,
     "metadata": {},
     "output_type": "execute_result"
    }
   ],
   "source": [
    "pred=model.predict(X_test)\n",
    "pred"
   ]
  },
  {
   "cell_type": "code",
   "execution_count": 42,
   "id": "80fcfbe7",
   "metadata": {},
   "outputs": [],
   "source": [
    "y_pred = []\n",
    "for element in pred:\n",
    "    if element > 0.5:\n",
    "        y_pred.append(1)\n",
    "    else:\n",
    "        y_pred.append(0)"
   ]
  },
  {
   "cell_type": "code",
   "execution_count": 43,
   "id": "cbfcc147",
   "metadata": {},
   "outputs": [
    {
     "name": "stdout",
     "output_type": "stream",
     "text": [
      "              precision    recall  f1-score   support\n",
      "\n",
      "           0       0.87      0.96      0.91      1595\n",
      "           1       0.73      0.42      0.54       405\n",
      "\n",
      "    accuracy                           0.85      2000\n",
      "   macro avg       0.80      0.69      0.72      2000\n",
      "weighted avg       0.84      0.85      0.84      2000\n",
      "\n"
     ]
    }
   ],
   "source": [
    "from sklearn.metrics import confusion_matrix , classification_report\n",
    "\n",
    "print(classification_report(y_test,y_pred))"
   ]
  },
  {
   "cell_type": "code",
   "execution_count": 44,
   "id": "911679e2",
   "metadata": {},
   "outputs": [
    {
     "data": {
      "text/plain": [
       "Text(69.0, 0.5, 'Truth')"
      ]
     },
     "execution_count": 44,
     "metadata": {},
     "output_type": "execute_result"
    },
    {
     "data": {
      "image/png": "[encoded data removed]",
      "text/plain": [
       "<Figure size 720x504 with 2 Axes>"
      ]
     },
     "metadata": {
      "needs_background": "light"
     },
     "output_type": "display_data"
    }
   ],
   "source": [
    "import seaborn as sn\n",
    "cm = tf.math.confusion_matrix(labels=y_test,predictions=y_pred)\n",
    "\n",
    "plt.figure(figsize = (10,7))\n",
    "sn.heatmap(cm, annot=True, fmt='d')\n",
    "plt.xlabel('Predicted')\n",
    "plt.ylabel('Truth')"
   ]
  },
  {
   "cell_type": "code",
   "execution_count": 45,
   "id": "ed83fa0c",
   "metadata": {},
   "outputs": [],
   "source": [
    "from sklearn.metrics import accuracy_score"
   ]
  },
  {
   "cell_type": "code",
   "execution_count": 46,
   "id": "97d9f078",
   "metadata": {},
   "outputs": [
    {
     "name": "stdout",
     "output_type": "stream",
     "text": [
      "Accuracy score is:  85.15 %\n"
     ]
    }
   ],
   "source": [
    "print(\"Accuracy score is: \", accuracy_score(y_test,y_pred)*100,\"%\")"
   ]
  },
  {
   "cell_type": "markdown",
   "id": "a11427ba",
   "metadata": {},
   "source": [
    "Using AutoML"
   ]
  },
  {
   "cell_type": "code",
   "execution_count": 47,
   "id": "1f40a701",
   "metadata": {},
   "outputs": [
    {
     "name": "stdout",
     "output_type": "stream",
     "text": [
      "Requirement already satisfied: requests in c:\\users\\yash oza\\anaconda3\\lib\\site-packages (2.26.0)\n",
      "Requirement already satisfied: charset-normalizer~=2.0.0 in c:\\users\\yash oza\\anaconda3\\lib\\site-packages (from requests) (2.0.4)\n",
      "Requirement already satisfied: urllib3<1.27,>=1.21.1 in c:\\users\\yash oza\\anaconda3\\lib\\site-packages (from requests) (1.26.7)\n",
      "Requirement already satisfied: idna<4,>=2.5 in c:\\users\\yash oza\\anaconda3\\lib\\site-packages (from requests) (3.2)\n",
      "Requirement already satisfied: certifi>=2017.4.17 in c:\\users\\yash oza\\anaconda3\\lib\\site-packages (from requests) (2022.6.15)\n",
      "Requirement already satisfied: tabulate in c:\\users\\yash oza\\anaconda3\\lib\\site-packages (0.8.10)\n",
      "Requirement already satisfied: colorama>=0.3.8 in c:\\users\\yash oza\\appdata\\roaming\\python\\python39\\site-packages (0.4.4)\n",
      "Requirement already satisfied: future in c:\\users\\yash oza\\anaconda3\\lib\\site-packages (0.18.2)\n"
     ]
    }
   ],
   "source": [
    "!pip install requests\n",
    "!pip install tabulate\n",
    "!pip install \"colorama>=0.3.8\"\n",
    "!pip install future"
   ]
  },
  {
   "cell_type": "code",
   "execution_count": 48,
   "id": "c5c59335",
   "metadata": {},
   "outputs": [
    {
     "name": "stdout",
     "output_type": "stream",
     "text": [
      "Collecting h2o\n",
      "  Downloading h2o-3.36.1.3.tar.gz (177.0 MB)\n",
      "     -------------------------------------- 177.0/177.0 MB 5.0 MB/s eta 0:00:00\n",
      "  Preparing metadata (setup.py): started\n",
      "  Preparing metadata (setup.py): finished with status 'done'\n",
      "Requirement already satisfied: requests in c:\\users\\yash oza\\anaconda3\\lib\\site-packages (from h2o) (2.26.0)\n",
      "Requirement already satisfied: tabulate in c:\\users\\yash oza\\anaconda3\\lib\\site-packages (from h2o) (0.8.10)\n",
      "Requirement already satisfied: future in c:\\users\\yash oza\\anaconda3\\lib\\site-packages (from h2o) (0.18.2)\n",
      "Requirement already satisfied: certifi>=2017.4.17 in c:\\users\\yash oza\\anaconda3\\lib\\site-packages (from requests->h2o) (2022.6.15)\n",
      "Requirement already satisfied: idna<4,>=2.5 in c:\\users\\yash oza\\anaconda3\\lib\\site-packages (from requests->h2o) (3.2)\n",
      "Requirement already satisfied: urllib3<1.27,>=1.21.1 in c:\\users\\yash oza\\anaconda3\\lib\\site-packages (from requests->h2o) (1.26.7)\n",
      "Requirement already satisfied: charset-normalizer~=2.0.0 in c:\\users\\yash oza\\anaconda3\\lib\\site-packages (from requests->h2o) (2.0.4)\n",
      "Building wheels for collected packages: h2o\n",
      "  Building wheel for h2o (setup.py): started\n",
      "  Building wheel for h2o (setup.py): finished with status 'done'\n",
      "  Created wheel for h2o: filename=h2o-3.36.1.3-py2.py3-none-any.whl size=177103819 sha256=7430200fa069299d1b79f6f267c0b39bc61193af0b8e4c61448640f30c20595d\n",
      "  Stored in directory: c:\\users\\yash oza\\appdata\\local\\pip\\cache\\wheels\\f0\\bd\\e4\\77dade0bd453ff51a196e29837fa5cc30b9df0aa8f5fd36bf6\n",
      "Successfully built h2o\n",
      "Installing collected packages: h2o\n",
      "Successfully installed h2o-3.36.1.3\n"
     ]
    }
   ],
   "source": [
    "!pip install h2o"
   ]
  },
  {
   "cell_type": "code",
   "execution_count": 49,
   "id": "dae962ee",
   "metadata": {},
   "outputs": [
    {
     "name": "stdout",
     "output_type": "stream",
     "text": [
      "Checking whether there is an H2O instance running at http://localhost:54321 ..... not found.\n",
      "Attempting to start a local H2O server...\n",
      "; OpenJDK 64-Bit Server VM AdoptOpenJDK (build 11.0.9.1+1, mixed mode)\n",
      "  Starting server from C:\\Users\\Yash Oza\\anaconda3\\Lib\\site-packages\\h2o\\backend\\bin\\h2o.jar\n",
      "  Ice root: C:\\Users\\YASHOZ~1\\AppData\\Local\\Temp\\tmpwn4h0vpu\n",
      "  JVM stdout: C:\\Users\\YASHOZ~1\\AppData\\Local\\Temp\\tmpwn4h0vpu\\h2o_Yash_Oza_started_from_python.out\n",
      "  JVM stderr: C:\\Users\\YASHOZ~1\\AppData\\Local\\Temp\\tmpwn4h0vpu\\h2o_Yash_Oza_started_from_python.err\n",
      "  Server is running at http://127.0.0.1:54321\n",
      "Connecting to H2O server at http://127.0.0.1:54321 ... successful.\n"
     ]
    },
    {
     "data": {
      "text/html": [
       "<div style=\"overflow:auto\"><table style=\"width:50%\"><tr><td>H2O_cluster_uptime:</td>\n",
       "<td>12 secs</td></tr>\n",
       "<tr><td>H2O_cluster_timezone:</td>\n",
       "<td>Asia/Kolkata</td></tr>\n",
       "<tr><td>H2O_data_parsing_timezone:</td>\n",
       "<td>UTC</td></tr>\n",
       "<tr><td>H2O_cluster_version:</td>\n",
       "<td>3.36.1.3</td></tr>\n",
       "<tr><td>H2O_cluster_version_age:</td>\n",
       "<td>4 days </td></tr>\n",
       "<tr><td>H2O_cluster_name:</td>\n",
       "<td>H2O_from_python_Yash_Oza_iu4rcw</td></tr>\n",
       "<tr><td>H2O_cluster_total_nodes:</td>\n",
       "<td>1</td></tr>\n",
       "<tr><td>H2O_cluster_free_memory:</td>\n",
       "<td>16 Gb</td></tr>\n",
       "<tr><td>H2O_cluster_total_cores:</td>\n",
       "<td>8</td></tr>\n",
       "<tr><td>H2O_cluster_allowed_cores:</td>\n",
       "<td>8</td></tr>\n",
       "<tr><td>H2O_cluster_status:</td>\n",
       "<td>locked, healthy</td></tr>\n",
       "<tr><td>H2O_connection_url:</td>\n",
       "<td>http://127.0.0.1:54321</td></tr>\n",
       "<tr><td>H2O_connection_proxy:</td>\n",
       "<td>{\"http\": null, \"https\": null}</td></tr>\n",
       "<tr><td>H2O_internal_security:</td>\n",
       "<td>False</td></tr>\n",
       "<tr><td>Python_version:</td>\n",
       "<td>3.9.7 final</td></tr></table></div>"
      ],
      "text/plain": [
       "--------------------------  -------------------------------\n",
       "H2O_cluster_uptime:         12 secs\n",
       "H2O_cluster_timezone:       Asia/Kolkata\n",
       "H2O_data_parsing_timezone:  UTC\n",
       "H2O_cluster_version:        3.36.1.3\n",
       "H2O_cluster_version_age:    4 days\n",
       "H2O_cluster_name:           H2O_from_python_Yash_Oza_iu4rcw\n",
       "H2O_cluster_total_nodes:    1\n",
       "H2O_cluster_free_memory:    16 Gb\n",
       "H2O_cluster_total_cores:    8\n",
       "H2O_cluster_allowed_cores:  8\n",
       "H2O_cluster_status:         locked, healthy\n",
       "H2O_connection_url:         http://127.0.0.1:54321\n",
       "H2O_connection_proxy:       {\"http\": null, \"https\": null}\n",
       "H2O_internal_security:      False\n",
       "Python_version:             3.9.7 final\n",
       "--------------------------  -------------------------------"
      ]
     },
     "metadata": {},
     "output_type": "display_data"
    }
   ],
   "source": [
    "import h2o\n",
    "from h2o.automl import H2OAutoML\n",
    "h2o.init(max_mem_size='16G')  ##  the h2o.init() makes sure that no prior instance of H2O is running."
   ]
  },
  {
   "cell_type": "code",
   "execution_count": 51,
   "id": "a828832e",
   "metadata": {},
   "outputs": [
    {
     "name": "stdout",
     "output_type": "stream",
     "text": [
      "Parse progress: |████████████████████████████████████████████████████████████████| (done) 100%\n"
     ]
    }
   ],
   "source": [
    "df = h2o.import_file(\"Churn_Modelling.csv\")"
   ]
  },
  {
   "cell_type": "code",
   "execution_count": 52,
   "id": "42c025d2",
   "metadata": {},
   "outputs": [
    {
     "data": {
      "text/html": [
       "<table>\n",
       "<thead>\n",
       "<tr><th style=\"text-align: right;\">  RowNumber</th><th style=\"text-align: right;\">  CustomerId</th><th>Surname  </th><th style=\"text-align: right;\">  CreditScore</th><th>Geography  </th><th>Gender  </th><th style=\"text-align: right;\">  Age</th><th style=\"text-align: right;\">  Tenure</th><th style=\"text-align: right;\">  Balance</th><th style=\"text-align: right;\">  NumOfProducts</th><th style=\"text-align: right;\">  HasCrCard</th><th style=\"text-align: right;\">  IsActiveMember</th><th style=\"text-align: right;\">  EstimatedSalary</th><th style=\"text-align: right;\">  Exited</th></tr>\n",
       "</thead>\n",
       "<tbody>\n",
       "<tr><td style=\"text-align: right;\">          1</td><td style=\"text-align: right;\"> 1.56346e+07</td><td>Hargrave </td><td style=\"text-align: right;\">          619</td><td>France     </td><td>Female  </td><td style=\"text-align: right;\">   42</td><td style=\"text-align: right;\">       2</td><td style=\"text-align: right;\">      0  </td><td style=\"text-align: right;\">              1</td><td style=\"text-align: right;\">          1</td><td style=\"text-align: right;\">               1</td><td style=\"text-align: right;\">         101349  </td><td style=\"text-align: right;\">       1</td></tr>\n",
       "<tr><td style=\"text-align: right;\">          2</td><td style=\"text-align: right;\"> 1.56473e+07</td><td>Hill     </td><td style=\"text-align: right;\">          608</td><td>Spain      </td><td>Female  </td><td style=\"text-align: right;\">   41</td><td style=\"text-align: right;\">       1</td><td style=\"text-align: right;\">  83807.9</td><td style=\"text-align: right;\">              1</td><td style=\"text-align: right;\">          0</td><td style=\"text-align: right;\">               1</td><td style=\"text-align: right;\">         112543  </td><td style=\"text-align: right;\">       0</td></tr>\n",
       "<tr><td style=\"text-align: right;\">          3</td><td style=\"text-align: right;\"> 1.56193e+07</td><td>Onio     </td><td style=\"text-align: right;\">          502</td><td>France     </td><td>Female  </td><td style=\"text-align: right;\">   42</td><td style=\"text-align: right;\">       8</td><td style=\"text-align: right;\"> 159661  </td><td style=\"text-align: right;\">              3</td><td style=\"text-align: right;\">          1</td><td style=\"text-align: right;\">               0</td><td style=\"text-align: right;\">         113932  </td><td style=\"text-align: right;\">       1</td></tr>\n",
       "<tr><td style=\"text-align: right;\">          4</td><td style=\"text-align: right;\"> 1.57014e+07</td><td>Boni     </td><td style=\"text-align: right;\">          699</td><td>France     </td><td>Female  </td><td style=\"text-align: right;\">   39</td><td style=\"text-align: right;\">       1</td><td style=\"text-align: right;\">      0  </td><td style=\"text-align: right;\">              2</td><td style=\"text-align: right;\">          0</td><td style=\"text-align: right;\">               0</td><td style=\"text-align: right;\">          93826.6</td><td style=\"text-align: right;\">       0</td></tr>\n",
       "<tr><td style=\"text-align: right;\">          5</td><td style=\"text-align: right;\"> 1.57379e+07</td><td>Mitchell </td><td style=\"text-align: right;\">          850</td><td>Spain      </td><td>Female  </td><td style=\"text-align: right;\">   43</td><td style=\"text-align: right;\">       2</td><td style=\"text-align: right;\"> 125511  </td><td style=\"text-align: right;\">              1</td><td style=\"text-align: right;\">          1</td><td style=\"text-align: right;\">               1</td><td style=\"text-align: right;\">          79084.1</td><td style=\"text-align: right;\">       0</td></tr>\n",
       "<tr><td style=\"text-align: right;\">          6</td><td style=\"text-align: right;\"> 1.5574e+07 </td><td>Chu      </td><td style=\"text-align: right;\">          645</td><td>Spain      </td><td>Male    </td><td style=\"text-align: right;\">   44</td><td style=\"text-align: right;\">       8</td><td style=\"text-align: right;\"> 113756  </td><td style=\"text-align: right;\">              2</td><td style=\"text-align: right;\">          1</td><td style=\"text-align: right;\">               0</td><td style=\"text-align: right;\">         149757  </td><td style=\"text-align: right;\">       1</td></tr>\n",
       "<tr><td style=\"text-align: right;\">          7</td><td style=\"text-align: right;\"> 1.55925e+07</td><td>Bartlett </td><td style=\"text-align: right;\">          822</td><td>France     </td><td>Male    </td><td style=\"text-align: right;\">   50</td><td style=\"text-align: right;\">       7</td><td style=\"text-align: right;\">      0  </td><td style=\"text-align: right;\">              2</td><td style=\"text-align: right;\">          1</td><td style=\"text-align: right;\">               1</td><td style=\"text-align: right;\">          10062.8</td><td style=\"text-align: right;\">       0</td></tr>\n",
       "<tr><td style=\"text-align: right;\">          8</td><td style=\"text-align: right;\"> 1.56561e+07</td><td>Obinna   </td><td style=\"text-align: right;\">          376</td><td>Germany    </td><td>Female  </td><td style=\"text-align: right;\">   29</td><td style=\"text-align: right;\">       4</td><td style=\"text-align: right;\"> 115047  </td><td style=\"text-align: right;\">              4</td><td style=\"text-align: right;\">          1</td><td style=\"text-align: right;\">               0</td><td style=\"text-align: right;\">         119347  </td><td style=\"text-align: right;\">       1</td></tr>\n",
       "<tr><td style=\"text-align: right;\">          9</td><td style=\"text-align: right;\"> 1.57924e+07</td><td>He       </td><td style=\"text-align: right;\">          501</td><td>France     </td><td>Male    </td><td style=\"text-align: right;\">   44</td><td style=\"text-align: right;\">       4</td><td style=\"text-align: right;\"> 142051  </td><td style=\"text-align: right;\">              2</td><td style=\"text-align: right;\">          0</td><td style=\"text-align: right;\">               1</td><td style=\"text-align: right;\">          74940.5</td><td style=\"text-align: right;\">       0</td></tr>\n",
       "<tr><td style=\"text-align: right;\">         10</td><td style=\"text-align: right;\"> 1.55924e+07</td><td>H?       </td><td style=\"text-align: right;\">          684</td><td>France     </td><td>Male    </td><td style=\"text-align: right;\">   27</td><td style=\"text-align: right;\">       2</td><td style=\"text-align: right;\"> 134604  </td><td style=\"text-align: right;\">              1</td><td style=\"text-align: right;\">          1</td><td style=\"text-align: right;\">               1</td><td style=\"text-align: right;\">          71725.7</td><td style=\"text-align: right;\">       0</td></tr>\n",
       "</tbody>\n",
       "</table>"
      ]
     },
     "metadata": {},
     "output_type": "display_data"
    },
    {
     "data": {
      "text/plain": []
     },
     "execution_count": 52,
     "metadata": {},
     "output_type": "execute_result"
    }
   ],
   "source": [
    "df.head()"
   ]
  },
  {
   "cell_type": "code",
   "execution_count": 53,
   "id": "26094bbd",
   "metadata": {},
   "outputs": [],
   "source": [
    "df_train,df_test= df.split_frame(ratios=[.8])"
   ]
  },
  {
   "cell_type": "code",
   "execution_count": 54,
   "id": "a569a8a8",
   "metadata": {},
   "outputs": [
    {
     "data": {
      "text/html": [
       "<table>\n",
       "<thead>\n",
       "<tr><th style=\"text-align: right;\">  RowNumber</th><th style=\"text-align: right;\">  CustomerId</th><th>Surname  </th><th style=\"text-align: right;\">  CreditScore</th><th>Geography  </th><th>Gender  </th><th style=\"text-align: right;\">  Age</th><th style=\"text-align: right;\">  Tenure</th><th style=\"text-align: right;\">  Balance</th><th style=\"text-align: right;\">  NumOfProducts</th><th style=\"text-align: right;\">  HasCrCard</th><th style=\"text-align: right;\">  IsActiveMember</th><th style=\"text-align: right;\">  EstimatedSalary</th><th style=\"text-align: right;\">  Exited</th></tr>\n",
       "</thead>\n",
       "<tbody>\n",
       "<tr><td style=\"text-align: right;\">          1</td><td style=\"text-align: right;\"> 1.56346e+07</td><td>Hargrave </td><td style=\"text-align: right;\">          619</td><td>France     </td><td>Female  </td><td style=\"text-align: right;\">   42</td><td style=\"text-align: right;\">       2</td><td style=\"text-align: right;\">      0  </td><td style=\"text-align: right;\">              1</td><td style=\"text-align: right;\">          1</td><td style=\"text-align: right;\">               1</td><td style=\"text-align: right;\">         101349  </td><td style=\"text-align: right;\">       1</td></tr>\n",
       "<tr><td style=\"text-align: right;\">          2</td><td style=\"text-align: right;\"> 1.56473e+07</td><td>Hill     </td><td style=\"text-align: right;\">          608</td><td>Spain      </td><td>Female  </td><td style=\"text-align: right;\">   41</td><td style=\"text-align: right;\">       1</td><td style=\"text-align: right;\">  83807.9</td><td style=\"text-align: right;\">              1</td><td style=\"text-align: right;\">          0</td><td style=\"text-align: right;\">               1</td><td style=\"text-align: right;\">         112543  </td><td style=\"text-align: right;\">       0</td></tr>\n",
       "<tr><td style=\"text-align: right;\">          3</td><td style=\"text-align: right;\"> 1.56193e+07</td><td>Onio     </td><td style=\"text-align: right;\">          502</td><td>France     </td><td>Female  </td><td style=\"text-align: right;\">   42</td><td style=\"text-align: right;\">       8</td><td style=\"text-align: right;\"> 159661  </td><td style=\"text-align: right;\">              3</td><td style=\"text-align: right;\">          1</td><td style=\"text-align: right;\">               0</td><td style=\"text-align: right;\">         113932  </td><td style=\"text-align: right;\">       1</td></tr>\n",
       "<tr><td style=\"text-align: right;\">          4</td><td style=\"text-align: right;\"> 1.57014e+07</td><td>Boni     </td><td style=\"text-align: right;\">          699</td><td>France     </td><td>Female  </td><td style=\"text-align: right;\">   39</td><td style=\"text-align: right;\">       1</td><td style=\"text-align: right;\">      0  </td><td style=\"text-align: right;\">              2</td><td style=\"text-align: right;\">          0</td><td style=\"text-align: right;\">               0</td><td style=\"text-align: right;\">          93826.6</td><td style=\"text-align: right;\">       0</td></tr>\n",
       "<tr><td style=\"text-align: right;\">          5</td><td style=\"text-align: right;\"> 1.57379e+07</td><td>Mitchell </td><td style=\"text-align: right;\">          850</td><td>Spain      </td><td>Female  </td><td style=\"text-align: right;\">   43</td><td style=\"text-align: right;\">       2</td><td style=\"text-align: right;\"> 125511  </td><td style=\"text-align: right;\">              1</td><td style=\"text-align: right;\">          1</td><td style=\"text-align: right;\">               1</td><td style=\"text-align: right;\">          79084.1</td><td style=\"text-align: right;\">       0</td></tr>\n",
       "<tr><td style=\"text-align: right;\">          6</td><td style=\"text-align: right;\"> 1.5574e+07 </td><td>Chu      </td><td style=\"text-align: right;\">          645</td><td>Spain      </td><td>Male    </td><td style=\"text-align: right;\">   44</td><td style=\"text-align: right;\">       8</td><td style=\"text-align: right;\"> 113756  </td><td style=\"text-align: right;\">              2</td><td style=\"text-align: right;\">          1</td><td style=\"text-align: right;\">               0</td><td style=\"text-align: right;\">         149757  </td><td style=\"text-align: right;\">       1</td></tr>\n",
       "<tr><td style=\"text-align: right;\">          7</td><td style=\"text-align: right;\"> 1.55925e+07</td><td>Bartlett </td><td style=\"text-align: right;\">          822</td><td>France     </td><td>Male    </td><td style=\"text-align: right;\">   50</td><td style=\"text-align: right;\">       7</td><td style=\"text-align: right;\">      0  </td><td style=\"text-align: right;\">              2</td><td style=\"text-align: right;\">          1</td><td style=\"text-align: right;\">               1</td><td style=\"text-align: right;\">          10062.8</td><td style=\"text-align: right;\">       0</td></tr>\n",
       "<tr><td style=\"text-align: right;\">          9</td><td style=\"text-align: right;\"> 1.57924e+07</td><td>He       </td><td style=\"text-align: right;\">          501</td><td>France     </td><td>Male    </td><td style=\"text-align: right;\">   44</td><td style=\"text-align: right;\">       4</td><td style=\"text-align: right;\"> 142051  </td><td style=\"text-align: right;\">              2</td><td style=\"text-align: right;\">          0</td><td style=\"text-align: right;\">               1</td><td style=\"text-align: right;\">          74940.5</td><td style=\"text-align: right;\">       0</td></tr>\n",
       "<tr><td style=\"text-align: right;\">         12</td><td style=\"text-align: right;\"> 1.57372e+07</td><td>Andrews  </td><td style=\"text-align: right;\">          497</td><td>Spain      </td><td>Male    </td><td style=\"text-align: right;\">   24</td><td style=\"text-align: right;\">       3</td><td style=\"text-align: right;\">      0  </td><td style=\"text-align: right;\">              2</td><td style=\"text-align: right;\">          1</td><td style=\"text-align: right;\">               0</td><td style=\"text-align: right;\">          76390  </td><td style=\"text-align: right;\">       0</td></tr>\n",
       "<tr><td style=\"text-align: right;\">         13</td><td style=\"text-align: right;\"> 1.56323e+07</td><td>Kay      </td><td style=\"text-align: right;\">          476</td><td>France     </td><td>Female  </td><td style=\"text-align: right;\">   34</td><td style=\"text-align: right;\">      10</td><td style=\"text-align: right;\">      0  </td><td style=\"text-align: right;\">              2</td><td style=\"text-align: right;\">          1</td><td style=\"text-align: right;\">               0</td><td style=\"text-align: right;\">          26261  </td><td style=\"text-align: right;\">       0</td></tr>\n",
       "</tbody>\n",
       "</table>"
      ]
     },
     "metadata": {},
     "output_type": "display_data"
    },
    {
     "data": {
      "text/plain": []
     },
     "execution_count": 54,
     "metadata": {},
     "output_type": "execute_result"
    }
   ],
   "source": [
    "df_train"
   ]
  },
  {
   "cell_type": "code",
   "execution_count": 55,
   "id": "d1923fd8",
   "metadata": {},
   "outputs": [],
   "source": [
    "y = \"Exited\"  ## dependent variable\n",
    "x = df.columns  ## Independent variable\n",
    "x.remove(y)\n",
    "x.remove('CustomerId')\n",
    "x.remove('RowNumber')\n",
    "x.remove('Surname')"
   ]
  },
  {
   "cell_type": "code",
   "execution_count": 56,
   "id": "5245609e",
   "metadata": {},
   "outputs": [],
   "source": [
    "aml = H2OAutoML(max_runtime_secs=300,max_models = 10, seed = 10, verbosity=\"info\", nfolds=2)"
   ]
  },
  {
   "cell_type": "code",
   "execution_count": 57,
   "id": "001a3413",
   "metadata": {},
   "outputs": [
    {
     "name": "stdout",
     "output_type": "stream",
     "text": [
      "AutoML progress: |\n",
      "22:05:41.347: Project: AutoML_1_20220712_220541\n",
      "22:05:41.352: Setting stopping tolerance adaptively based on the training frame: 0.011168479675238057\n",
      "22:05:41.352: Build control seed: 10\n",
      "22:05:41.354: training frame: Frame key: AutoML_1_20220712_220541_training_py_3_sid_b9b6    cols: 14    rows: 8017  chunks: 32    size: 508464  checksum: 8975300304145251672\n",
      "22:05:41.355: validation frame: NULL\n",
      "22:05:41.355: leaderboard frame: NULL\n",
      "22:05:41.355: blending frame: NULL\n",
      "22:05:41.355: response column: Exited\n",
      "22:05:41.355: fold column: null\n",
      "22:05:41.356: weights column: null\n",
      "22:05:41.383: AutoML: XGBoost is not available; skipping it.\n",
      "22:05:41.395: Loading execution steps: [{XGBoost : [def_2 (1g, 10w), def_1 (2g, 10w), def_3 (3g, 10w), grid_1 (4g, 90w), lr_search (7g, 30w)]}, {GLM : [def_1 (1g, 10w)]}, {DRF : [def_1 (2g, 10w), XRT (3g, 10w)]}, {GBM : [def_5 (1g, 10w), def_2 (2g, 10w), def_3 (2g, 10w), def_4 (2g, 10w), def_1 (3g, 10w), grid_1 (4g, 60w), lr_annealing (7g, 10w)]}, {DeepLearning : [def_1 (3g, 10w), grid_1 (4g, 30w), grid_2 (5g, 30w), grid_3 (5g, 30w)]}, {completion : [resume_best_grids (6g, 60w)]}, {StackedEnsemble : [monotonic (9g, 10w), best_of_family_xglm (10g, 10w), all_xglm (10g, 10w)]}]\n",
      "22:05:41.453: Disabling Algo: XGBoost as requested by the user.\n",
      "22:05:41.457: AutoML job created: 2022.07.12 22:05:41.274\n",
      "22:05:41.459: AutoML build started: 2022.07.12 22:05:41.459\n",
      "22:05:41.493: AutoML: starting GLM_1_AutoML_1_20220712_220541 model training\n",
      "22:05:41.496: _response param, We have detected that your response column has only 2 unique values (0/1). If you wish to train a binary model instead of a regression model, convert your target column to categorical before training.\n",
      "\n",
      "\n",
      "22:05:43.102: New leader: GLM_1_AutoML_1_20220712_220541, rmse: 0.37027722525107754\n",
      "22:05:43.113: AutoML: starting GBM_1_AutoML_1_20220712_220541 model training\n",
      "22:05:43.114: _response param, We have detected that your response column has only 2 unique values (0/1). If you wish to train a binary model instead of a regression model, convert your target column to categorical before training.\n",
      "\n",
      "███\n",
      "22:05:47.423: New leader: GBM_1_AutoML_1_20220712_220541, rmse: 0.3213432887576018\n",
      "22:05:47.433: AutoML: starting DRF_1_AutoML_1_20220712_220541 model training\n",
      "22:05:47.439: _response param, We have detected that your response column has only 2 unique values (0/1). If you wish to train a binary model instead of a regression model, convert your target column to categorical before training.\n",
      "\n",
      "███\n",
      "22:05:52.955: AutoML: starting GBM_2_AutoML_1_20220712_220541 model training\n",
      "22:05:52.957: _response param, We have detected that your response column has only 2 unique values (0/1). If you wish to train a binary model instead of a regression model, convert your target column to categorical before training.\n",
      "\n",
      "\n",
      "22:05:54.423: New leader: GBM_2_AutoML_1_20220712_220541, rmse: 0.32093004246587636\n",
      "22:05:54.426: AutoML: starting GBM_3_AutoML_1_20220712_220541 model training\n",
      "22:05:54.427: _response param, We have detected that your response column has only 2 unique values (0/1). If you wish to train a binary model instead of a regression model, convert your target column to categorical before training.\n",
      "\n",
      "█\n",
      "22:05:55.650: AutoML: starting GBM_4_AutoML_1_20220712_220541 model training\n",
      "22:05:55.653: _response param, We have detected that your response column has only 2 unique values (0/1). If you wish to train a binary model instead of a regression model, convert your target column to categorical before training.\n",
      "\n",
      "█\n",
      "22:05:57.208: AutoML: starting XRT_1_AutoML_1_20220712_220541 model training\n",
      "22:05:57.211: _response param, We have detected that your response column has only 2 unique values (0/1). If you wish to train a binary model instead of a regression model, convert your target column to categorical before training.\n",
      "\n",
      "████\n",
      "22:06:01.513: AutoML: starting GBM_5_AutoML_1_20220712_220541 model training\n",
      "22:06:01.521: _response param, We have detected that your response column has only 2 unique values (0/1). If you wish to train a binary model instead of a regression model, convert your target column to categorical before training.\n",
      "\n",
      "█\n",
      "22:06:02.589: New leader: GBM_5_AutoML_1_20220712_220541, rmse: 0.3192874771016611\n",
      "22:06:02.603: AutoML: starting DeepLearning_1_AutoML_1_20220712_220541 model training\n",
      "22:06:02.603: _response param, We have detected that your response column has only 2 unique values (0/1). If you wish to train a binary model instead of a regression model, convert your target column to categorical before training.\n",
      "\n",
      "█\n",
      "22:06:05.27: AutoML: starting GBM_grid_1_AutoML_1_20220712_220541 hyperparameter search\n",
      "\n",
      "██\n",
      "22:06:06.622: No base models, due to timeouts or the exclude_algos option. Skipping StackedEnsemble 'monotonic'.\n",
      "22:06:06.646: AutoML: starting StackedEnsemble_BestOfFamily_1_AutoML_1_20220712_220541 model training\n",
      "22:06:06.648: _response param, We have detected that your response column has only 2 unique values (0/1). If you wish to train a binary model instead of a regression model, convert your target column to categorical before training.\n",
      "22:06:07.807: New leader: StackedEnsemble_BestOfFamily_1_AutoML_1_20220712_220541, rmse: 0.3182663059063344\n",
      "22:06:07.811: AutoML: starting StackedEnsemble_AllModels_1_AutoML_1_20220712_220541 model training\n",
      "22:06:07.812: _response param, We have detected that your response column has only 2 unique values (0/1). If you wish to train a binary model instead of a regression model, convert your target column to categorical before training.\n",
      "\n",
      "███████████████████████████████████████████████| (done) 100%\n",
      "\n",
      "22:06:08.960: New leader: StackedEnsemble_AllModels_1_AutoML_1_20220712_220541, rmse: 0.31781690002027685\n",
      "22:06:08.962: Actual modeling steps: [{GLM : [def_1 (1g, 10w)]}, {GBM : [def_5 (1g, 10w)]}, {DRF : [def_1 (2g, 10w)]}, {GBM : [def_2 (2g, 10w), def_3 (2g, 10w), def_4 (2g, 10w)]}, {DRF : [XRT (3g, 10w)]}, {GBM : [def_1 (3g, 10w)]}, {DeepLearning : [def_1 (3g, 10w)]}, {GBM : [grid_1 (4g, 60w)]}, {StackedEnsemble : [best_of_family_xglm (10g, 10w), all_xglm (10g, 10w)]}]\n",
      "22:06:08.962: AutoML build stopped: 2022.07.12 22:06:08.962\n",
      "22:06:08.962: AutoML build done: built 10 models\n",
      "22:06:08.962: AutoML duration: 27.503 sec\n",
      "\n",
      "Model Details\n",
      "=============\n",
      "H2OStackedEnsembleEstimator :  Stacked Ensemble\n",
      "Model Key:  StackedEnsemble_AllModels_1_AutoML_1_20220712_220541\n",
      "\n",
      "No model summary for this model\n",
      "\n",
      "ModelMetricsRegressionGLM: stackedensemble\n",
      "** Reported on train data. **\n",
      "\n",
      "MSE: 0.07843448297489267\n",
      "RMSE: 0.2800615699714844\n",
      "MAE: 0.1768873811657073\n",
      "RMSLE: 0.1949102914196811\n",
      "R^2: 0.5121977792968522\n",
      "Mean Residual Deviance: 0.07843448297489267\n",
      "Null degrees of freedom: 8016\n",
      "Residual degrees of freedom: 8008\n",
      "Null deviance: 1289.0659847823322\n",
      "Residual deviance: 628.8092500097146\n",
      "AIC: 2364.0541682706175\n",
      "\n",
      "ModelMetricsRegressionGLM: stackedensemble\n",
      "** Reported on cross-validation data. **\n",
      "\n",
      "MSE: 0.10100758193849864\n",
      "RMSE: 0.31781690002027685\n",
      "MAE: 0.20731020499325284\n",
      "RMSLE: 0.22331962432505187\n",
      "R^2: 0.37181044728468504\n",
      "Mean Residual Deviance: 0.10100758193849864\n",
      "Null degrees of freedom: 8016\n",
      "Residual degrees of freedom: 8008\n",
      "Null deviance: 1289.0944670048025\n",
      "Residual deviance: 809.7777844009436\n",
      "AIC: 4391.809356484217\n",
      "\n",
      "Cross-Validation Metrics Summary: \n"
     ]
    },
    {
     "data": {
      "text/html": [
       "<div>\n",
       "<style scoped>\n",
       "    .dataframe tbody tr th:only-of-type {\n",
       "        vertical-align: middle;\n",
       "    }\n",
       "\n",
       "    .dataframe tbody tr th {\n",
       "        vertical-align: top;\n",
       "    }\n",
       "\n",
       "    .dataframe thead th {\n",
       "        text-align: right;\n",
       "    }\n",
       "</style>\n",
       "<table border=\"1\" class=\"dataframe\">\n",
       "  <thead>\n",
       "    <tr style=\"text-align: right;\">\n",
       "      <th></th>\n",
       "      <th></th>\n",
       "      <th>mean</th>\n",
       "      <th>sd</th>\n",
       "      <th>cv_1_valid</th>\n",
       "      <th>cv_2_valid</th>\n",
       "    </tr>\n",
       "  </thead>\n",
       "  <tbody>\n",
       "    <tr>\n",
       "      <th>0</th>\n",
       "      <td>mae</td>\n",
       "      <td>0.207714</td>\n",
       "      <td>0.002501</td>\n",
       "      <td>0.209482</td>\n",
       "      <td>0.205945</td>\n",
       "    </tr>\n",
       "    <tr>\n",
       "      <th>1</th>\n",
       "      <td>mean_residual_deviance</td>\n",
       "      <td>0.101037</td>\n",
       "      <td>0.004507</td>\n",
       "      <td>0.104224</td>\n",
       "      <td>0.097850</td>\n",
       "    </tr>\n",
       "    <tr>\n",
       "      <th>2</th>\n",
       "      <td>mse</td>\n",
       "      <td>0.101037</td>\n",
       "      <td>0.004507</td>\n",
       "      <td>0.104224</td>\n",
       "      <td>0.097850</td>\n",
       "    </tr>\n",
       "    <tr>\n",
       "      <th>3</th>\n",
       "      <td>null_deviance</td>\n",
       "      <td>644.547240</td>\n",
       "      <td>6.889663</td>\n",
       "      <td>639.675500</td>\n",
       "      <td>649.418950</td>\n",
       "    </tr>\n",
       "    <tr>\n",
       "      <th>4</th>\n",
       "      <td>r2</td>\n",
       "      <td>0.371722</td>\n",
       "      <td>0.024440</td>\n",
       "      <td>0.354440</td>\n",
       "      <td>0.389004</td>\n",
       "    </tr>\n",
       "    <tr>\n",
       "      <th>5</th>\n",
       "      <td>residual_deviance</td>\n",
       "      <td>404.858730</td>\n",
       "      <td>11.423878</td>\n",
       "      <td>412.936650</td>\n",
       "      <td>396.780850</td>\n",
       "    </tr>\n",
       "    <tr>\n",
       "      <th>6</th>\n",
       "      <td>rmse</td>\n",
       "      <td>0.317824</td>\n",
       "      <td>0.007091</td>\n",
       "      <td>0.322838</td>\n",
       "      <td>0.312810</td>\n",
       "    </tr>\n",
       "    <tr>\n",
       "      <th>7</th>\n",
       "      <td>rmsle</td>\n",
       "      <td>0.223264</td>\n",
       "      <td>0.004640</td>\n",
       "      <td>0.226545</td>\n",
       "      <td>0.219983</td>\n",
       "    </tr>\n",
       "  </tbody>\n",
       "</table>\n",
       "</div>"
      ],
      "text/plain": [
       "                                 mean         sd  cv_1_valid  cv_2_valid\n",
       "0                     mae    0.207714   0.002501    0.209482    0.205945\n",
       "1  mean_residual_deviance    0.101037   0.004507    0.104224    0.097850\n",
       "2                     mse    0.101037   0.004507    0.104224    0.097850\n",
       "3           null_deviance  644.547240   6.889663  639.675500  649.418950\n",
       "4                      r2    0.371722   0.024440    0.354440    0.389004\n",
       "5       residual_deviance  404.858730  11.423878  412.936650  396.780850\n",
       "6                    rmse    0.317824   0.007091    0.322838    0.312810\n",
       "7                   rmsle    0.223264   0.004640    0.226545    0.219983"
      ]
     },
     "metadata": {},
     "output_type": "display_data"
    },
    {
     "data": {
      "text/plain": []
     },
     "execution_count": 57,
     "metadata": {},
     "output_type": "execute_result"
    }
   ],
   "source": [
    "aml.train(x=x,y=y, training_frame=df_train)"
   ]
  },
  {
   "cell_type": "code",
   "execution_count": 58,
   "id": "560eb859",
   "metadata": {},
   "outputs": [],
   "source": [
    "lb = aml.leaderboard"
   ]
  },
  {
   "cell_type": "code",
   "execution_count": 59,
   "id": "bd1e3b62",
   "metadata": {},
   "outputs": [
    {
     "data": {
      "text/html": [
       "<table>\n",
       "<thead>\n",
       "<tr><th>model_id                                               </th><th style=\"text-align: right;\">    rmse</th><th style=\"text-align: right;\">     mse</th><th style=\"text-align: right;\">     mae</th><th style=\"text-align: right;\">   rmsle</th><th style=\"text-align: right;\">  mean_residual_deviance</th></tr>\n",
       "</thead>\n",
       "<tbody>\n",
       "<tr><td>StackedEnsemble_AllModels_1_AutoML_1_20220712_220541   </td><td style=\"text-align: right;\">0.317817</td><td style=\"text-align: right;\">0.101008</td><td style=\"text-align: right;\">0.20731 </td><td style=\"text-align: right;\">0.22332 </td><td style=\"text-align: right;\">                0.101008</td></tr>\n",
       "<tr><td>StackedEnsemble_BestOfFamily_1_AutoML_1_20220712_220541</td><td style=\"text-align: right;\">0.318266</td><td style=\"text-align: right;\">0.101293</td><td style=\"text-align: right;\">0.207689</td><td style=\"text-align: right;\">0.223611</td><td style=\"text-align: right;\">                0.101293</td></tr>\n",
       "<tr><td>GBM_5_AutoML_1_20220712_220541                         </td><td style=\"text-align: right;\">0.319287</td><td style=\"text-align: right;\">0.101944</td><td style=\"text-align: right;\">0.209167</td><td style=\"text-align: right;\">0.224181</td><td style=\"text-align: right;\">                0.101944</td></tr>\n",
       "<tr><td>GBM_2_AutoML_1_20220712_220541                         </td><td style=\"text-align: right;\">0.32093 </td><td style=\"text-align: right;\">0.102996</td><td style=\"text-align: right;\">0.210609</td><td style=\"text-align: right;\">0.225306</td><td style=\"text-align: right;\">                0.102996</td></tr>\n",
       "<tr><td>GBM_1_AutoML_1_20220712_220541                         </td><td style=\"text-align: right;\">0.321343</td><td style=\"text-align: right;\">0.103262</td><td style=\"text-align: right;\">0.214306</td><td style=\"text-align: right;\">0.226264</td><td style=\"text-align: right;\">                0.103262</td></tr>\n",
       "<tr><td>GBM_3_AutoML_1_20220712_220541                         </td><td style=\"text-align: right;\">0.321803</td><td style=\"text-align: right;\">0.103557</td><td style=\"text-align: right;\">0.211107</td><td style=\"text-align: right;\">0.226116</td><td style=\"text-align: right;\">                0.103557</td></tr>\n",
       "<tr><td>GBM_4_AutoML_1_20220712_220541                         </td><td style=\"text-align: right;\">0.324391</td><td style=\"text-align: right;\">0.10523 </td><td style=\"text-align: right;\">0.210993</td><td style=\"text-align: right;\">0.228512</td><td style=\"text-align: right;\">                0.10523 </td></tr>\n",
       "<tr><td>GBM_grid_1_AutoML_1_20220712_220541_model_1            </td><td style=\"text-align: right;\">0.32507 </td><td style=\"text-align: right;\">0.10567 </td><td style=\"text-align: right;\">0.226668</td><td style=\"text-align: right;\">0.228553</td><td style=\"text-align: right;\">                0.10567 </td></tr>\n",
       "<tr><td>DRF_1_AutoML_1_20220712_220541                         </td><td style=\"text-align: right;\">0.326924</td><td style=\"text-align: right;\">0.106879</td><td style=\"text-align: right;\">0.214844</td><td style=\"text-align: right;\">0.230814</td><td style=\"text-align: right;\">                0.106879</td></tr>\n",
       "<tr><td>DeepLearning_1_AutoML_1_20220712_220541                </td><td style=\"text-align: right;\">0.3325  </td><td style=\"text-align: right;\">0.110557</td><td style=\"text-align: right;\">0.234567</td><td style=\"text-align: right;\">0.236941</td><td style=\"text-align: right;\">                0.110557</td></tr>\n",
       "</tbody>\n",
       "</table>"
      ]
     },
     "metadata": {},
     "output_type": "display_data"
    },
    {
     "data": {
      "text/plain": []
     },
     "execution_count": 59,
     "metadata": {},
     "output_type": "execute_result"
    }
   ],
   "source": [
    "lb"
   ]
  },
  {
   "cell_type": "code",
   "execution_count": 60,
   "id": "50617fc8",
   "metadata": {},
   "outputs": [],
   "source": [
    "model_ids = list(aml.leaderboard['model_id'].as_data_frame().iloc[:,0])"
   ]
  },
  {
   "cell_type": "code",
   "execution_count": 61,
   "id": "3c50ffa1",
   "metadata": {},
   "outputs": [
    {
     "data": {
      "text/plain": [
       "['StackedEnsemble_AllModels_1_AutoML_1_20220712_220541',\n",
       " 'StackedEnsemble_BestOfFamily_1_AutoML_1_20220712_220541',\n",
       " 'GBM_5_AutoML_1_20220712_220541',\n",
       " 'GBM_2_AutoML_1_20220712_220541',\n",
       " 'GBM_1_AutoML_1_20220712_220541',\n",
       " 'GBM_3_AutoML_1_20220712_220541',\n",
       " 'GBM_4_AutoML_1_20220712_220541',\n",
       " 'GBM_grid_1_AutoML_1_20220712_220541_model_1',\n",
       " 'DRF_1_AutoML_1_20220712_220541',\n",
       " 'DeepLearning_1_AutoML_1_20220712_220541',\n",
       " 'XRT_1_AutoML_1_20220712_220541',\n",
       " 'GLM_1_AutoML_1_20220712_220541']"
      ]
     },
     "execution_count": 61,
     "metadata": {},
     "output_type": "execute_result"
    }
   ],
   "source": [
    "model_ids"
   ]
  },
  {
   "cell_type": "code",
   "execution_count": 62,
   "id": "473936a3",
   "metadata": {},
   "outputs": [
    {
     "name": "stdout",
     "output_type": "stream",
     "text": [
      "\n",
      "ModelMetricsRegressionGLM: stackedensemble\n",
      "** Reported on test data. **\n",
      "\n",
      "MSE: 0.1077102335684134\n",
      "RMSE: 0.3281923728065803\n",
      "MAE: 0.2115078763794483\n",
      "RMSLE: 0.2294500867546585\n",
      "R^2: 0.3581442585795861\n",
      "Mean Residual Deviance: 0.1077102335684134\n",
      "Null degrees of freedom: 1982\n",
      "Residual degrees of freedom: 1974\n",
      "Null deviance: 333.05365500519224\n",
      "Residual deviance: 213.58939316616377\n",
      "AIC: 1228.7701439948987\n"
     ]
    },
    {
     "data": {
      "text/plain": []
     },
     "execution_count": 62,
     "metadata": {},
     "output_type": "execute_result"
    }
   ],
   "source": [
    "aml.leader.model_performance(df_test)"
   ]
  },
  {
   "cell_type": "code",
   "execution_count": 63,
   "id": "69cf267f",
   "metadata": {},
   "outputs": [
    {
     "name": "stdout",
     "output_type": "stream",
     "text": [
      "Model Details\n",
      "=============\n",
      "H2OStackedEnsembleEstimator :  Stacked Ensemble\n",
      "Model Key:  StackedEnsemble_AllModels_1_AutoML_1_20220712_220541\n",
      "\n",
      "No model summary for this model\n",
      "\n",
      "ModelMetricsRegressionGLM: stackedensemble\n",
      "** Reported on train data. **\n",
      "\n",
      "MSE: 0.07843448297489267\n",
      "RMSE: 0.2800615699714844\n",
      "MAE: 0.1768873811657073\n",
      "RMSLE: 0.1949102914196811\n",
      "R^2: 0.5121977792968522\n",
      "Mean Residual Deviance: 0.07843448297489267\n",
      "Null degrees of freedom: 8016\n",
      "Residual degrees of freedom: 8008\n",
      "Null deviance: 1289.0659847823322\n",
      "Residual deviance: 628.8092500097146\n",
      "AIC: 2364.0541682706175\n",
      "\n",
      "ModelMetricsRegressionGLM: stackedensemble\n",
      "** Reported on cross-validation data. **\n",
      "\n",
      "MSE: 0.10100758193849864\n",
      "RMSE: 0.31781690002027685\n",
      "MAE: 0.20731020499325284\n",
      "RMSLE: 0.22331962432505187\n",
      "R^2: 0.37181044728468504\n",
      "Mean Residual Deviance: 0.10100758193849864\n",
      "Null degrees of freedom: 8016\n",
      "Residual degrees of freedom: 8008\n",
      "Null deviance: 1289.0944670048025\n",
      "Residual deviance: 809.7777844009436\n",
      "AIC: 4391.809356484217\n",
      "\n",
      "Cross-Validation Metrics Summary: \n"
     ]
    },
    {
     "data": {
      "text/html": [
       "<div>\n",
       "<style scoped>\n",
       "    .dataframe tbody tr th:only-of-type {\n",
       "        vertical-align: middle;\n",
       "    }\n",
       "\n",
       "    .dataframe tbody tr th {\n",
       "        vertical-align: top;\n",
       "    }\n",
       "\n",
       "    .dataframe thead th {\n",
       "        text-align: right;\n",
       "    }\n",
       "</style>\n",
       "<table border=\"1\" class=\"dataframe\">\n",
       "  <thead>\n",
       "    <tr style=\"text-align: right;\">\n",
       "      <th></th>\n",
       "      <th></th>\n",
       "      <th>mean</th>\n",
       "      <th>sd</th>\n",
       "      <th>cv_1_valid</th>\n",
       "      <th>cv_2_valid</th>\n",
       "    </tr>\n",
       "  </thead>\n",
       "  <tbody>\n",
       "    <tr>\n",
       "      <th>0</th>\n",
       "      <td>mae</td>\n",
       "      <td>0.207714</td>\n",
       "      <td>0.002501</td>\n",
       "      <td>0.209482</td>\n",
       "      <td>0.205945</td>\n",
       "    </tr>\n",
       "    <tr>\n",
       "      <th>1</th>\n",
       "      <td>mean_residual_deviance</td>\n",
       "      <td>0.101037</td>\n",
       "      <td>0.004507</td>\n",
       "      <td>0.104224</td>\n",
       "      <td>0.097850</td>\n",
       "    </tr>\n",
       "    <tr>\n",
       "      <th>2</th>\n",
       "      <td>mse</td>\n",
       "      <td>0.101037</td>\n",
       "      <td>0.004507</td>\n",
       "      <td>0.104224</td>\n",
       "      <td>0.097850</td>\n",
       "    </tr>\n",
       "    <tr>\n",
       "      <th>3</th>\n",
       "      <td>null_deviance</td>\n",
       "      <td>644.547240</td>\n",
       "      <td>6.889663</td>\n",
       "      <td>639.675500</td>\n",
       "      <td>649.418950</td>\n",
       "    </tr>\n",
       "    <tr>\n",
       "      <th>4</th>\n",
       "      <td>r2</td>\n",
       "      <td>0.371722</td>\n",
       "      <td>0.024440</td>\n",
       "      <td>0.354440</td>\n",
       "      <td>0.389004</td>\n",
       "    </tr>\n",
       "    <tr>\n",
       "      <th>5</th>\n",
       "      <td>residual_deviance</td>\n",
       "      <td>404.858730</td>\n",
       "      <td>11.423878</td>\n",
       "      <td>412.936650</td>\n",
       "      <td>396.780850</td>\n",
       "    </tr>\n",
       "    <tr>\n",
       "      <th>6</th>\n",
       "      <td>rmse</td>\n",
       "      <td>0.317824</td>\n",
       "      <td>0.007091</td>\n",
       "      <td>0.322838</td>\n",
       "      <td>0.312810</td>\n",
       "    </tr>\n",
       "    <tr>\n",
       "      <th>7</th>\n",
       "      <td>rmsle</td>\n",
       "      <td>0.223264</td>\n",
       "      <td>0.004640</td>\n",
       "      <td>0.226545</td>\n",
       "      <td>0.219983</td>\n",
       "    </tr>\n",
       "  </tbody>\n",
       "</table>\n",
       "</div>"
      ],
      "text/plain": [
       "                                 mean         sd  cv_1_valid  cv_2_valid\n",
       "0                     mae    0.207714   0.002501    0.209482    0.205945\n",
       "1  mean_residual_deviance    0.101037   0.004507    0.104224    0.097850\n",
       "2                     mse    0.101037   0.004507    0.104224    0.097850\n",
       "3           null_deviance  644.547240   6.889663  639.675500  649.418950\n",
       "4                      r2    0.371722   0.024440    0.354440    0.389004\n",
       "5       residual_deviance  404.858730  11.423878  412.936650  396.780850\n",
       "6                    rmse    0.317824   0.007091    0.322838    0.312810\n",
       "7                   rmsle    0.223264   0.004640    0.226545    0.219983"
      ]
     },
     "metadata": {},
     "output_type": "display_data"
    },
    {
     "data": {
      "text/plain": []
     },
     "execution_count": 63,
     "metadata": {},
     "output_type": "execute_result"
    }
   ],
   "source": [
    "h2o.get_model([mid for mid in model_ids if \"StackedEnsemble\" in mid][0])"
   ]
  },
  {
   "cell_type": "code",
   "execution_count": 64,
   "id": "da323752",
   "metadata": {},
   "outputs": [
    {
     "data": {
      "text/plain": [
       "{'model_id': {'default': None,\n",
       "  'actual': {'__meta': {'schema_version': 3,\n",
       "    'schema_name': 'ModelKeyV3',\n",
       "    'schema_type': 'Key<Model>'},\n",
       "   'name': 'StackedEnsemble_AllModels_1_AutoML_1_20220712_220541',\n",
       "   'type': 'Key<Model>',\n",
       "   'URL': '/3/Models/StackedEnsemble_AllModels_1_AutoML_1_20220712_220541'},\n",
       "  'input': None},\n",
       " 'training_frame': {'default': None,\n",
       "  'actual': {'__meta': {'schema_version': 3,\n",
       "    'schema_name': 'FrameKeyV3',\n",
       "    'schema_type': 'Key<Frame>'},\n",
       "   'name': 'AutoML_1_20220712_220541_training_py_3_sid_b9b6',\n",
       "   'type': 'Key<Frame>',\n",
       "   'URL': '/3/Frames/AutoML_1_20220712_220541_training_py_3_sid_b9b6'},\n",
       "  'input': {'__meta': {'schema_version': 3,\n",
       "    'schema_name': 'FrameKeyV3',\n",
       "    'schema_type': 'Key<Frame>'},\n",
       "   'name': 'AutoML_1_20220712_220541_training_py_3_sid_b9b6',\n",
       "   'type': 'Key<Frame>',\n",
       "   'URL': '/3/Frames/AutoML_1_20220712_220541_training_py_3_sid_b9b6'}},\n",
       " 'response_column': {'default': None,\n",
       "  'actual': {'__meta': {'schema_version': 3,\n",
       "    'schema_name': 'ColSpecifierV3',\n",
       "    'schema_type': 'VecSpecifier'},\n",
       "   'column_name': 'Exited',\n",
       "   'is_member_of_frames': None},\n",
       "  'input': {'__meta': {'schema_version': 3,\n",
       "    'schema_name': 'ColSpecifierV3',\n",
       "    'schema_type': 'VecSpecifier'},\n",
       "   'column_name': 'Exited',\n",
       "   'is_member_of_frames': None}},\n",
       " 'validation_frame': {'default': None, 'actual': None, 'input': None},\n",
       " 'blending_frame': {'default': None, 'actual': None, 'input': None},\n",
       " 'base_models': {'default': [],\n",
       "  'actual': [{'__meta': {'schema_version': 3,\n",
       "     'schema_name': 'KeyV3',\n",
       "     'schema_type': 'Key<Keyed>'},\n",
       "    'name': 'GBM_5_AutoML_1_20220712_220541',\n",
       "    'type': 'Key<Keyed>',\n",
       "    'URL': None},\n",
       "   {'__meta': {'schema_version': 3,\n",
       "     'schema_name': 'KeyV3',\n",
       "     'schema_type': 'Key<Keyed>'},\n",
       "    'name': 'GBM_2_AutoML_1_20220712_220541',\n",
       "    'type': 'Key<Keyed>',\n",
       "    'URL': None},\n",
       "   {'__meta': {'schema_version': 3,\n",
       "     'schema_name': 'KeyV3',\n",
       "     'schema_type': 'Key<Keyed>'},\n",
       "    'name': 'GBM_1_AutoML_1_20220712_220541',\n",
       "    'type': 'Key<Keyed>',\n",
       "    'URL': None},\n",
       "   {'__meta': {'schema_version': 3,\n",
       "     'schema_name': 'KeyV3',\n",
       "     'schema_type': 'Key<Keyed>'},\n",
       "    'name': 'GBM_3_AutoML_1_20220712_220541',\n",
       "    'type': 'Key<Keyed>',\n",
       "    'URL': None},\n",
       "   {'__meta': {'schema_version': 3,\n",
       "     'schema_name': 'KeyV3',\n",
       "     'schema_type': 'Key<Keyed>'},\n",
       "    'name': 'GBM_4_AutoML_1_20220712_220541',\n",
       "    'type': 'Key<Keyed>',\n",
       "    'URL': None},\n",
       "   {'__meta': {'schema_version': 3,\n",
       "     'schema_name': 'KeyV3',\n",
       "     'schema_type': 'Key<Keyed>'},\n",
       "    'name': 'GBM_grid_1_AutoML_1_20220712_220541_model_1',\n",
       "    'type': 'Key<Keyed>',\n",
       "    'URL': None},\n",
       "   {'__meta': {'schema_version': 3,\n",
       "     'schema_name': 'KeyV3',\n",
       "     'schema_type': 'Key<Keyed>'},\n",
       "    'name': 'DRF_1_AutoML_1_20220712_220541',\n",
       "    'type': 'Key<Keyed>',\n",
       "    'URL': None},\n",
       "   {'__meta': {'schema_version': 3,\n",
       "     'schema_name': 'KeyV3',\n",
       "     'schema_type': 'Key<Keyed>'},\n",
       "    'name': 'DeepLearning_1_AutoML_1_20220712_220541',\n",
       "    'type': 'Key<Keyed>',\n",
       "    'URL': None},\n",
       "   {'__meta': {'schema_version': 3,\n",
       "     'schema_name': 'KeyV3',\n",
       "     'schema_type': 'Key<Keyed>'},\n",
       "    'name': 'XRT_1_AutoML_1_20220712_220541',\n",
       "    'type': 'Key<Keyed>',\n",
       "    'URL': None},\n",
       "   {'__meta': {'schema_version': 3,\n",
       "     'schema_name': 'KeyV3',\n",
       "     'schema_type': 'Key<Keyed>'},\n",
       "    'name': 'GLM_1_AutoML_1_20220712_220541',\n",
       "    'type': 'Key<Keyed>',\n",
       "    'URL': None}],\n",
       "  'input': [{'__meta': {'schema_version': 3,\n",
       "     'schema_name': 'KeyV3',\n",
       "     'schema_type': 'Key<Keyed>'},\n",
       "    'name': 'GBM_5_AutoML_1_20220712_220541',\n",
       "    'type': 'Key<Keyed>',\n",
       "    'URL': None},\n",
       "   {'__meta': {'schema_version': 3,\n",
       "     'schema_name': 'KeyV3',\n",
       "     'schema_type': 'Key<Keyed>'},\n",
       "    'name': 'GBM_2_AutoML_1_20220712_220541',\n",
       "    'type': 'Key<Keyed>',\n",
       "    'URL': None},\n",
       "   {'__meta': {'schema_version': 3,\n",
       "     'schema_name': 'KeyV3',\n",
       "     'schema_type': 'Key<Keyed>'},\n",
       "    'name': 'GBM_1_AutoML_1_20220712_220541',\n",
       "    'type': 'Key<Keyed>',\n",
       "    'URL': None},\n",
       "   {'__meta': {'schema_version': 3,\n",
       "     'schema_name': 'KeyV3',\n",
       "     'schema_type': 'Key<Keyed>'},\n",
       "    'name': 'GBM_3_AutoML_1_20220712_220541',\n",
       "    'type': 'Key<Keyed>',\n",
       "    'URL': None},\n",
       "   {'__meta': {'schema_version': 3,\n",
       "     'schema_name': 'KeyV3',\n",
       "     'schema_type': 'Key<Keyed>'},\n",
       "    'name': 'GBM_4_AutoML_1_20220712_220541',\n",
       "    'type': 'Key<Keyed>',\n",
       "    'URL': None},\n",
       "   {'__meta': {'schema_version': 3,\n",
       "     'schema_name': 'KeyV3',\n",
       "     'schema_type': 'Key<Keyed>'},\n",
       "    'name': 'GBM_grid_1_AutoML_1_20220712_220541_model_1',\n",
       "    'type': 'Key<Keyed>',\n",
       "    'URL': None},\n",
       "   {'__meta': {'schema_version': 3,\n",
       "     'schema_name': 'KeyV3',\n",
       "     'schema_type': 'Key<Keyed>'},\n",
       "    'name': 'DRF_1_AutoML_1_20220712_220541',\n",
       "    'type': 'Key<Keyed>',\n",
       "    'URL': None},\n",
       "   {'__meta': {'schema_version': 3,\n",
       "     'schema_name': 'KeyV3',\n",
       "     'schema_type': 'Key<Keyed>'},\n",
       "    'name': 'DeepLearning_1_AutoML_1_20220712_220541',\n",
       "    'type': 'Key<Keyed>',\n",
       "    'URL': None},\n",
       "   {'__meta': {'schema_version': 3,\n",
       "     'schema_name': 'KeyV3',\n",
       "     'schema_type': 'Key<Keyed>'},\n",
       "    'name': 'XRT_1_AutoML_1_20220712_220541',\n",
       "    'type': 'Key<Keyed>',\n",
       "    'URL': None},\n",
       "   {'__meta': {'schema_version': 3,\n",
       "     'schema_name': 'KeyV3',\n",
       "     'schema_type': 'Key<Keyed>'},\n",
       "    'name': 'GLM_1_AutoML_1_20220712_220541',\n",
       "    'type': 'Key<Keyed>',\n",
       "    'URL': None}]},\n",
       " 'metalearner_algorithm': {'default': 'AUTO',\n",
       "  'actual': 'glm',\n",
       "  'input': 'AUTO'},\n",
       " 'metalearner_nfolds': {'default': 0, 'actual': 2, 'input': 2},\n",
       " 'metalearner_fold_assignment': {'default': None,\n",
       "  'actual': None,\n",
       "  'input': None},\n",
       " 'metalearner_fold_column': {'default': None, 'actual': None, 'input': None},\n",
       " 'metalearner_params': {'default': '', 'actual': '', 'input': ''},\n",
       " 'metalearner_transform': {'default': 'NONE',\n",
       "  'actual': 'NONE',\n",
       "  'input': 'NONE'},\n",
       " 'max_runtime_secs': {'default': 0.0, 'actual': 0.0, 'input': 0.0},\n",
       " 'weights_column': {'default': None, 'actual': None, 'input': None},\n",
       " 'offset_column': {'default': None, 'actual': None, 'input': None},\n",
       " 'seed': {'default': -1, 'actual': 20, 'input': 20},\n",
       " 'score_training_samples': {'default': 10000, 'actual': 10000, 'input': 10000},\n",
       " 'keep_levelone_frame': {'default': False, 'actual': True, 'input': True},\n",
       " 'export_checkpoints_dir': {'default': None, 'actual': None, 'input': None},\n",
       " 'auc_type': {'default': 'AUTO', 'actual': 'AUTO', 'input': 'AUTO'}}"
      ]
     },
     "execution_count": 64,
     "metadata": {},
     "output_type": "execute_result"
    }
   ],
   "source": [
    "output= h2o.get_model([mid for mid in model_ids if \"StackedEnsemble\" in mid][0])\n",
    "output.params"
   ]
  },
  {
   "cell_type": "code",
   "execution_count": 65,
   "id": "b9a6f4c2",
   "metadata": {},
   "outputs": [
    {
     "name": "stdout",
     "output_type": "stream",
     "text": [
      "Model Details\n",
      "=============\n",
      "H2OStackedEnsembleEstimator :  Stacked Ensemble\n",
      "Model Key:  StackedEnsemble_AllModels_1_AutoML_1_20220712_220541\n",
      "\n",
      "No model summary for this model\n",
      "\n",
      "ModelMetricsRegressionGLM: stackedensemble\n",
      "** Reported on train data. **\n",
      "\n",
      "MSE: 0.07843448297489267\n",
      "RMSE: 0.2800615699714844\n",
      "MAE: 0.1768873811657073\n",
      "RMSLE: 0.1949102914196811\n",
      "R^2: 0.5121977792968522\n",
      "Mean Residual Deviance: 0.07843448297489267\n",
      "Null degrees of freedom: 8016\n",
      "Residual degrees of freedom: 8008\n",
      "Null deviance: 1289.0659847823322\n",
      "Residual deviance: 628.8092500097146\n",
      "AIC: 2364.0541682706175\n",
      "\n",
      "ModelMetricsRegressionGLM: stackedensemble\n",
      "** Reported on cross-validation data. **\n",
      "\n",
      "MSE: 0.10100758193849864\n",
      "RMSE: 0.31781690002027685\n",
      "MAE: 0.20731020499325284\n",
      "RMSLE: 0.22331962432505187\n",
      "R^2: 0.37181044728468504\n",
      "Mean Residual Deviance: 0.10100758193849864\n",
      "Null degrees of freedom: 8016\n",
      "Residual degrees of freedom: 8008\n",
      "Null deviance: 1289.0944670048025\n",
      "Residual deviance: 809.7777844009436\n",
      "AIC: 4391.809356484217\n",
      "\n",
      "Cross-Validation Metrics Summary: \n"
     ]
    },
    {
     "data": {
      "text/html": [
       "<div>\n",
       "<style scoped>\n",
       "    .dataframe tbody tr th:only-of-type {\n",
       "        vertical-align: middle;\n",
       "    }\n",
       "\n",
       "    .dataframe tbody tr th {\n",
       "        vertical-align: top;\n",
       "    }\n",
       "\n",
       "    .dataframe thead th {\n",
       "        text-align: right;\n",
       "    }\n",
       "</style>\n",
       "<table border=\"1\" class=\"dataframe\">\n",
       "  <thead>\n",
       "    <tr style=\"text-align: right;\">\n",
       "      <th></th>\n",
       "      <th></th>\n",
       "      <th>mean</th>\n",
       "      <th>sd</th>\n",
       "      <th>cv_1_valid</th>\n",
       "      <th>cv_2_valid</th>\n",
       "    </tr>\n",
       "  </thead>\n",
       "  <tbody>\n",
       "    <tr>\n",
       "      <th>0</th>\n",
       "      <td>mae</td>\n",
       "      <td>0.207714</td>\n",
       "      <td>0.002501</td>\n",
       "      <td>0.209482</td>\n",
       "      <td>0.205945</td>\n",
       "    </tr>\n",
       "    <tr>\n",
       "      <th>1</th>\n",
       "      <td>mean_residual_deviance</td>\n",
       "      <td>0.101037</td>\n",
       "      <td>0.004507</td>\n",
       "      <td>0.104224</td>\n",
       "      <td>0.097850</td>\n",
       "    </tr>\n",
       "    <tr>\n",
       "      <th>2</th>\n",
       "      <td>mse</td>\n",
       "      <td>0.101037</td>\n",
       "      <td>0.004507</td>\n",
       "      <td>0.104224</td>\n",
       "      <td>0.097850</td>\n",
       "    </tr>\n",
       "    <tr>\n",
       "      <th>3</th>\n",
       "      <td>null_deviance</td>\n",
       "      <td>644.547240</td>\n",
       "      <td>6.889663</td>\n",
       "      <td>639.675500</td>\n",
       "      <td>649.418950</td>\n",
       "    </tr>\n",
       "    <tr>\n",
       "      <th>4</th>\n",
       "      <td>r2</td>\n",
       "      <td>0.371722</td>\n",
       "      <td>0.024440</td>\n",
       "      <td>0.354440</td>\n",
       "      <td>0.389004</td>\n",
       "    </tr>\n",
       "    <tr>\n",
       "      <th>5</th>\n",
       "      <td>residual_deviance</td>\n",
       "      <td>404.858730</td>\n",
       "      <td>11.423878</td>\n",
       "      <td>412.936650</td>\n",
       "      <td>396.780850</td>\n",
       "    </tr>\n",
       "    <tr>\n",
       "      <th>6</th>\n",
       "      <td>rmse</td>\n",
       "      <td>0.317824</td>\n",
       "      <td>0.007091</td>\n",
       "      <td>0.322838</td>\n",
       "      <td>0.312810</td>\n",
       "    </tr>\n",
       "    <tr>\n",
       "      <th>7</th>\n",
       "      <td>rmsle</td>\n",
       "      <td>0.223264</td>\n",
       "      <td>0.004640</td>\n",
       "      <td>0.226545</td>\n",
       "      <td>0.219983</td>\n",
       "    </tr>\n",
       "  </tbody>\n",
       "</table>\n",
       "</div>"
      ],
      "text/plain": [
       "                                 mean         sd  cv_1_valid  cv_2_valid\n",
       "0                     mae    0.207714   0.002501    0.209482    0.205945\n",
       "1  mean_residual_deviance    0.101037   0.004507    0.104224    0.097850\n",
       "2                     mse    0.101037   0.004507    0.104224    0.097850\n",
       "3           null_deviance  644.547240   6.889663  639.675500  649.418950\n",
       "4                      r2    0.371722   0.024440    0.354440    0.389004\n",
       "5       residual_deviance  404.858730  11.423878  412.936650  396.780850\n",
       "6                    rmse    0.317824   0.007091    0.322838    0.312810\n",
       "7                   rmsle    0.223264   0.004640    0.226545    0.219983"
      ]
     },
     "metadata": {},
     "output_type": "display_data"
    },
    {
     "data": {
      "text/plain": []
     },
     "execution_count": 65,
     "metadata": {},
     "output_type": "execute_result"
    }
   ],
   "source": [
    "aml.leader"
   ]
  },
  {
   "cell_type": "code",
   "execution_count": 66,
   "id": "371b247f",
   "metadata": {},
   "outputs": [
    {
     "name": "stdout",
     "output_type": "stream",
     "text": [
      "stackedensemble prediction progress: |███████████████████████████████████████████| (done) 100%\n"
     ]
    }
   ],
   "source": [
    "y_pred=aml.leader.predict(df_test)"
   ]
  },
  {
   "cell_type": "code",
   "execution_count": 67,
   "id": "d52e5e90",
   "metadata": {},
   "outputs": [
    {
     "data": {
      "text/html": [
       "<table>\n",
       "<thead>\n",
       "<tr><th style=\"text-align: right;\">   predict</th></tr>\n",
       "</thead>\n",
       "<tbody>\n",
       "<tr><td style=\"text-align: right;\">0.981426  </td></tr>\n",
       "<tr><td style=\"text-align: right;\">0.00354844</td></tr>\n",
       "<tr><td style=\"text-align: right;\">0.0342837 </td></tr>\n",
       "<tr><td style=\"text-align: right;\">0.0280323 </td></tr>\n",
       "<tr><td style=\"text-align: right;\">0.0143229 </td></tr>\n",
       "<tr><td style=\"text-align: right;\">0.217158  </td></tr>\n",
       "<tr><td style=\"text-align: right;\">0.534389  </td></tr>\n",
       "<tr><td style=\"text-align: right;\">0.173853  </td></tr>\n",
       "<tr><td style=\"text-align: right;\">0.38834   </td></tr>\n",
       "<tr><td style=\"text-align: right;\">0.0771188 </td></tr>\n",
       "</tbody>\n",
       "</table>"
      ]
     },
     "metadata": {},
     "output_type": "display_data"
    },
    {
     "data": {
      "text/plain": []
     },
     "execution_count": 67,
     "metadata": {},
     "output_type": "execute_result"
    }
   ],
   "source": [
    "y_pred"
   ]
  },
  {
   "cell_type": "code",
   "execution_count": null,
   "id": "bf327c07",
   "metadata": {},
   "outputs": [],
   "source": []
  }
 ],
 "metadata": {
  "kernelspec": {
   "display_name": "Python 3 (ipykernel)",
   "language": "python",
   "name": "python3"
  },
  "language_info": {
   "codemirror_mode": {
    "name": "ipython",
    "version": 3
   },
   "file_extension": ".py",
   "mimetype": "text/x-python",
   "name": "python",
   "nbconvert_exporter": "python",
   "pygments_lexer": "ipython3",
   "version": "3.9.7"
  }
 },
 "nbformat": 4,
 "nbformat_minor": 5
}
